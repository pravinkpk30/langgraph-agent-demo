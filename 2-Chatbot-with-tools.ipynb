{
 "cells": [
  {
   "cell_type": "markdown",
   "id": "7284f3f6",
   "metadata": {},
   "source": [
    "## ChatBot with Tools"
   ]
  },
  {
   "cell_type": "code",
   "execution_count": 1,
   "id": "7c7227f0",
   "metadata": {},
   "outputs": [
    {
     "data": {
      "text/plain": [
       "{'query': 'What is langgraph',\n",
       " 'follow_up_questions': None,\n",
       " 'answer': None,\n",
       " 'images': [],\n",
       " 'results': [{'url': 'https://www.analyticsvidhya.com/blog/2024/07/langgraph-revolutionizing-ai-agent/',\n",
       "   'title': 'What is LangGraph? - Analytics Vidhya',\n",
       "   'content': '* LangGraph is a library built on top of Langchain that is designed to facilitate the creation of cyclic graphs for large language model (LLM) – based AI agents. * Langgraph introduces a chat agent executor that represents the agent state as a list of messages, which is particularly useful for newer, chat-based models. The agent executor class in the Langchain framework was the main tool for building and executing AI agents before LangGraph. Large Language Models (LLMs) are the foundation for designing sophisticated AI agents, and LangGraph, built on top of Langchain, is intended to make the process of creating cyclic graphs easier. Ans. LangGraph addresses the limitations of previous AI agent development frameworks by providing more flexibility, better state management, and support for cyclic execution and multi-agent systems.',\n",
       "   'score': 0.93511593,\n",
       "   'raw_content': None},\n",
       "  {'url': 'https://huggingface.co/learn/agents-course/en/unit2/langgraph/when_to_use_langgraph',\n",
       "   'title': 'What is LangGraph ? - Hugging Face Agents Course',\n",
       "   'content': 'What is LangGraph ? # What is LangGraph ? `LangGraph` is a framework developed by LangChain **to manage the control flow of applications that integrate an LLM**. `LangGraph` is on the other end of the spectrum, it shines when you need **“Control”** on the execution of your agent. LangGraph is particularly valuable when you need **Control over your applications**. Put simply, if your application involves a series of steps that need to be orchestrated in a specific way, with decisions being made at each junction point, **LangGraph provides the structure you need**. Why do I need LangGraph? You could build the same application without LangGraph, but it builds easier tools and abstractions for you.',\n",
       "   'score': 0.93086797,\n",
       "   'raw_content': None}],\n",
       " 'response_time': 1.37,\n",
       " 'request_id': '9677924b-318f-4aee-ba26-50318c5a2d8e'}"
      ]
     },
     "execution_count": 1,
     "metadata": {},
     "output_type": "execute_result"
    }
   ],
   "source": [
    "from langchain_tavily import TavilySearch\n",
    "import os\n",
    "from dotenv import load_dotenv\n",
    "load_dotenv()\n",
    "\n",
    "tool=TavilySearch(max_results=2)\n",
    "tool.invoke(\"What is langgraph\")"
   ]
  },
  {
   "cell_type": "code",
   "execution_count": 2,
   "id": "a6b72e7b",
   "metadata": {},
   "outputs": [],
   "source": [
    "from langchain_groq import ChatGroq\n",
    "from langchain.chat_models import init_chat_model\n",
    "\n",
    "llm=ChatGroq(model=\"llama3-8b-8192\")"
   ]
  },
  {
   "cell_type": "markdown",
   "id": "1d3f32a5",
   "metadata": {},
   "source": [
    "## Custom Function (Tool Function)"
   ]
  },
  {
   "cell_type": "code",
   "execution_count": 3,
   "id": "5f86c4f0",
   "metadata": {},
   "outputs": [],
   "source": [
    "## Custom function\n",
    "def multiply(a:int,b:int)->int:\n",
    "    \"\"\"Multiply a and b\n",
    "\n",
    "    Args:\n",
    "        a (int): first int\n",
    "        b (int): second int\n",
    "\n",
    "    Returns:\n",
    "        int: output int\n",
    "    \"\"\"\n",
    "    return a*b"
   ]
  },
  {
   "cell_type": "code",
   "execution_count": 4,
   "id": "e9c5843b",
   "metadata": {},
   "outputs": [],
   "source": [
    "tools = [tool, multiply]"
   ]
  },
  {
   "cell_type": "code",
   "execution_count": 5,
   "id": "6920ddac",
   "metadata": {},
   "outputs": [],
   "source": [
    "llm_with_tool = llm.bind_tools(tools)"
   ]
  },
  {
   "cell_type": "code",
   "execution_count": 6,
   "id": "2ea4f54d",
   "metadata": {},
   "outputs": [
    {
     "data": {
      "text/plain": [
       "RunnableBinding(bound=ChatGroq(client=<groq.resources.chat.completions.Completions object at 0x107fcb3d0>, async_client=<groq.resources.chat.completions.AsyncCompletions object at 0x10890ec50>, model_name='llama3-8b-8192', model_kwargs={}, groq_api_key=SecretStr('**********')), kwargs={'tools': [{'type': 'function', 'function': {'name': 'tavily_search', 'description': 'A search engine optimized for comprehensive, accurate, and trusted results. Useful for when you need to answer questions about current events. It not only retrieves URLs and snippets, but offers advanced search depths, domain management, time range filters, and image search, this tool delivers real-time, accurate, and citation-backed results.Input should be a search query.', 'parameters': {'properties': {'query': {'description': 'Search query to look up', 'type': 'string'}, 'include_domains': {'anyOf': [{'items': {'type': 'string'}, 'type': 'array'}, {'type': 'null'}], 'default': [], 'description': 'A list of domains to restrict search results to.\\n\\n        Use this parameter when:\\n        1. The user explicitly requests information from specific websites (e.g., \"Find climate data from nasa.gov\")\\n        2. The user mentions an organization or company without specifying the domain (e.g., \"Find information about iPhones from Apple\")\\n\\n        In both cases, you should determine the appropriate domains (e.g., [\"nasa.gov\"] or [\"apple.com\"]) and set this parameter.\\n\\n        Results will ONLY come from the specified domains - no other sources will be included.\\n        Default is None (no domain restriction).\\n        '}, 'exclude_domains': {'anyOf': [{'items': {'type': 'string'}, 'type': 'array'}, {'type': 'null'}], 'default': [], 'description': 'A list of domains to exclude from search results.\\n\\n        Use this parameter when:\\n        1. The user explicitly requests to avoid certain websites (e.g., \"Find information about climate change but not from twitter.com\")\\n        2. The user mentions not wanting results from specific organizations without naming the domain (e.g., \"Find phone reviews but nothing from Apple\")\\n\\n        In both cases, you should determine the appropriate domains to exclude (e.g., [\"twitter.com\"] or [\"apple.com\"]) and set this parameter.\\n\\n        Results will filter out all content from the specified domains.\\n        Default is None (no domain exclusion).\\n        '}, 'search_depth': {'anyOf': [{'enum': ['basic', 'advanced'], 'type': 'string'}, {'type': 'null'}], 'default': 'basic', 'description': 'Controls search thoroughness and result comprehensiveness.\\n    \\n        Use \"basic\" for simple queries requiring quick, straightforward answers.\\n        \\n        Use \"advanced\" (default) for complex queries, specialized topics, \\n        rare information, or when in-depth analysis is needed.\\n        '}, 'include_images': {'anyOf': [{'type': 'boolean'}, {'type': 'null'}], 'default': False, 'description': 'Determines if the search returns relevant images along with text results.\\n   \\n        Set to True when the user explicitly requests visuals or when images would \\n        significantly enhance understanding (e.g., \"Show me what black holes look like,\" \\n        \"Find pictures of Renaissance art\").\\n        \\n        Leave as False (default) for most informational queries where text is sufficient.\\n        '}, 'time_range': {'anyOf': [{'enum': ['day', 'week', 'month', 'year'], 'type': 'string'}, {'type': 'null'}], 'default': None, 'description': 'Limits results to content published within a specific timeframe.\\n        \\n        ONLY set this when the user explicitly mentions a time period \\n        (e.g., \"latest AI news,\" \"articles from last week\").\\n        \\n        For less popular or niche topics, use broader time ranges \\n        (\"month\" or \"year\") to ensure sufficient relevant results.\\n   \\n        Options: \"day\" (24h), \"week\" (7d), \"month\" (30d), \"year\" (365d).\\n        \\n        Default is None.\\n        '}, 'topic': {'anyOf': [{'enum': ['general', 'news', 'finance'], 'type': 'string'}, {'type': 'null'}], 'default': 'general', 'description': 'Specifies search category for optimized results.\\n   \\n        Use \"general\" (default) for most queries, INCLUDING those with terms like \\n        \"latest,\" \"newest,\" or \"recent\" when referring to general information.\\n\\n        Use \"finance\" for markets, investments, economic data, or financial news.\\n\\n        Use \"news\" ONLY for politics, sports, or major current events covered by \\n        mainstream media - NOT simply because a query asks for \"new\" information.\\n        '}, 'include_favicon': {'anyOf': [{'type': 'boolean'}, {'type': 'null'}], 'default': False, 'description': \"Determines whether to include favicon URLs for each search result.\\n        \\n        When enabled, each search result will include the website's favicon URL,\\n        which can be useful for:\\n        - Building rich UI interfaces with visual website indicators\\n        - Providing visual cues about the source's credibility or brand\\n        - Creating bookmark-like displays with recognizable site icons\\n        \\n        Set to True when creating user interfaces that benefit from visual branding\\n        or when favicon information enhances the user experience.\\n        \\n        Default is False to minimize response size and API usage.\\n        \"}, 'start_date': {'anyOf': [{'type': 'string'}, {'type': 'null'}], 'default': None, 'description': 'Filters search results to include only content published on or after this date.\\n        \\n        Use this parameter when you need to:\\n        - Find recent developments or updates on a topic\\n        - Exclude outdated information from search results\\n        - Focus on content within a specific timeframe\\n        - Combine with end_date to create a custom date range\\n        \\n        Format must be YYYY-MM-DD (e.g., \"2024-01-15\" for January 15, 2024).\\n        \\n        Examples:\\n        - \"2024-01-01\" - Results from January 1, 2024 onwards\\n        - \"2023-12-25\" - Results from December 25, 2023 onwards\\n        \\n        When combined with end_date, creates a precise date range filter.\\n        \\n        Default is None (no start date restriction).\\n        '}, 'end_date': {'anyOf': [{'type': 'string'}, {'type': 'null'}], 'default': None, 'description': 'Filters search results to include only content published on or before this date.\\n        \\n        Use this parameter when you need to:\\n        - Exclude content published after a certain date\\n        - Study historical information or past events\\n        - Research how topics were covered during specific time periods\\n        - Combine with start_date to create a custom date range\\n        \\n        Format must be YYYY-MM-DD (e.g., \"2024-03-31\" for March 31, 2024).\\n        \\n        Examples:\\n        - \"2024-03-31\" - Results up to and including March 31, 2024\\n        - \"2023-12-31\" - Results up to and including December 31, 2023\\n        \\n        When combined with start_date, creates a precise date range filter.\\n        For example: start_date=\"2024-01-01\", end_date=\"2024-03-31\" \\n        returns results from Q1 2024 only.\\n        \\n        Default is None (no end date restriction).\\n        '}}, 'required': ['query'], 'type': 'object'}}}, {'type': 'function', 'function': {'name': 'multiply', 'description': 'Multiply a and b', 'parameters': {'properties': {'a': {'description': 'first int', 'type': 'integer'}, 'b': {'description': 'second int', 'type': 'integer'}}, 'required': ['a', 'b'], 'type': 'object'}}}]}, config={}, config_factories=[])"
      ]
     },
     "execution_count": 6,
     "metadata": {},
     "output_type": "execute_result"
    }
   ],
   "source": [
    "llm_with_tool"
   ]
  },
  {
   "cell_type": "markdown",
   "id": "7298cf64",
   "metadata": {},
   "source": [
    "# Build a State Graph"
   ]
  },
  {
   "cell_type": "code",
   "execution_count": 7,
   "id": "e69ec797",
   "metadata": {},
   "outputs": [],
   "source": [
    "from langgraph.graph.message import add_messages\n",
    "from typing import Annotated\n",
    "from typing_extensions import TypedDict\n",
    "# State definition\n",
    "class State(TypedDict):\n",
    "    # Messages have the type \"list\". The `add_messages` function\n",
    "    # in the annotation defines how this state key should be updated\n",
    "    # (in this case, it appends messages to the list, rather than overwriting them)\n",
    "    messages: Annotated[list, add_messages]"
   ]
  },
  {
   "cell_type": "code",
   "execution_count": 8,
   "id": "935fad77",
   "metadata": {},
   "outputs": [
    {
     "data": {
      "image/png": "[encoded data removed]",
      "text/plain": [
       "<IPython.core.display.Image object>"
      ]
     },
     "metadata": {},
     "output_type": "display_data"
    }
   ],
   "source": [
    "## Stategraph\n",
    "from langgraph.graph import StateGraph,START,END\n",
    "from langgraph.prebuilt import ToolNode\n",
    "from langgraph.prebuilt import tools_condition\n",
    "\n",
    "## Node definition\n",
    "def tool_calling_llm(state:State):\n",
    "    return {\"messages\":[llm_with_tool.invoke(state[\"messages\"])]}\n",
    "\n",
    "## Grpah\n",
    "builder=StateGraph(State)\n",
    "builder.add_node(\"tool_calling_llm\",tool_calling_llm)\n",
    "builder.add_node(\"tools\",ToolNode(tools))\n",
    "\n",
    "## Add Edges\n",
    "builder.add_edge(START, \"tool_calling_llm\")\n",
    "builder.add_conditional_edges(\n",
    "    \"tool_calling_llm\",\n",
    "    # If the latest message (result) from assistant is a tool call -> tools_condition routes to tools\n",
    "    # If the latest message (result) from assistant is a not a tool call -> tools_condition routes to END\n",
    "    tools_condition\n",
    ")\n",
    "builder.add_edge(\"tools\",END)\n",
    "\n",
    "## compile the graph\n",
    "graph=builder.compile()\n",
    "\n",
    "from IPython.display import Image, display\n",
    "display(Image(graph.get_graph().draw_mermaid_png()))"
   ]
  },
  {
   "cell_type": "code",
   "execution_count": 9,
   "id": "3eed686d",
   "metadata": {},
   "outputs": [],
   "source": [
    "response=graph.invoke({\"messages\":\"What is the recent ai news\"})"
   ]
  },
  {
   "cell_type": "code",
   "execution_count": 10,
   "id": "e8cb8271",
   "metadata": {},
   "outputs": [
    {
     "data": {
      "text/plain": [
       "'{\"query\": \"recent ai news\", \"follow_up_questions\": null, \"answer\": null, \"images\": [], \"results\": [{\"url\": \"https://techcrunch.com/category/artificial-intelligence/\", \"title\": \"AI News & Artificial Intelligence | TechCrunch\", \"content\": \"### Elon Musk’s xAI sues Apple and OpenAI, alleging anticompetitive collusion\\\\n\\\\nGreg Brockman\\\\n\\\\n### Silicon Valley is pouring millions into pro-AI PACs to sway midterms\\\\n\\\\nImage of the RM5.\\\\n\\\\n### Robomart unveils new delivery robot with $3 flat fee to challenge DoorDash, Uber Eats\\\\n\\\\nThe Grok app on a smartphone\\\\n\\\\n### Elon Musk says xAI has open sourced Grok 2.5\\\\n\\\\nthe logos of Open AI displayed on both computer and smart phone screen\\\\n\\\\n### OpenAI warns against SPVs and other ‘unauthorized’ investments [...] ### Anthropic settles AI book-training lawsuit with authors\\\\n\\\\nLip-Bu Tan, Intel, Trump administration\\\\n\\\\n### Why the US government is not the savior Intel needs\\\\n\\\\nAmazon Kindle e-reader laying on a wooden surface\\\\n\\\\n### Libby’s library app adds an AI discovery feature, and not everyone is thrilled\\\\n\\\\n### Meta to spend tens of millions on pro-AI super PAC\\\\n\\\\n### After falling behind in generative AI, IBM and AMD look to quantum for an edge [...] Contact Us\\\\n\\\\n# AI\\\\n\\\\nNews coverage on artificial intelligence and machine learning tech, the companies building them, and the ethical issues AI raises today. This encompasses generative AI, including large language models, text-to-image and text-to-video models; speech recognition and generation; and predictive analytics.\\\\n\\\\n### \\\\n\\\\nMaisa founders David Villalon and Manuel Romera\\\\n\\\\n### Maisa AI gets $25M to fix enterprise AI’s 95% failure rate\", \"score\": 0.6690754, \"raw_content\": null}, {\"url\": \"https://www.cbsnews.com/news/ai-artificial-intelligence-jobs-workers/\", \"title\": \"New study sheds light on what kinds of workers are losing ...\", \"content\": \"The research highlights two fields in particular where AI already appears to be supplanting a significant number of young workers: software engineering and customer service. Between late 2022 and July 2025, entry-level employment in those areas declined by roughly 20%, according to the report, while employment for older workers in the same jobs grew. [...] Early-career employees in fields that are most exposed to AI have experienced a 13% drop in employment since 2022, compared to more experienced workers in the same fields and when measured against people in sectors less buffeted by the fast-emerging technology, according to a recent working paper from Stanford economists Erik Brynjolfsson, Bharat Chandar and Ruyu Chen. [...] Watch CBS News\\\\n\\\\n# New study sheds light on what kinds of workers are losing jobs to AI\\\\n\\\\nmoneywatch\\\\n\\\\nAugust 28, 2025 / 5:00 AM EDT\\\\n/ CBS News\\\\n\\\\nArtificial intelligence is replacing entry-level workers whose jobs can be performed by generative AI tools like ChatGPT, a rigorous new study finds.\", \"score\": 0.61112726, \"raw_content\": null}], \"response_time\": 1.94, \"request_id\": \"10bff68e-d085-4436-9ab9-2162ad325523\"}'"
      ]
     },
     "execution_count": 10,
     "metadata": {},
     "output_type": "execute_result"
    }
   ],
   "source": [
    "response['messages'][-1].content"
   ]
  },
  {
   "cell_type": "code",
   "execution_count": 11,
   "id": "cfdc7d19",
   "metadata": {},
   "outputs": [
    {
     "name": "stdout",
     "output_type": "stream",
     "text": [
      "================================\u001b[1m Human Message \u001b[0m=================================\n",
      "\n",
      "What is the recent ai news\n",
      "==================================\u001b[1m Ai Message \u001b[0m==================================\n",
      "Tool Calls:\n",
      "  tavily_search (zcdgedwgg)\n",
      " Call ID: zcdgedwgg\n",
      "  Args:\n",
      "    query: recent ai news\n",
      "    search_depth: advanced\n",
      "    time_range: day\n",
      "=================================\u001b[1m Tool Message \u001b[0m=================================\n",
      "Name: tavily_search\n",
      "\n",
      "{\"query\": \"recent ai news\", \"follow_up_questions\": null, \"answer\": null, \"images\": [], \"results\": [{\"url\": \"https://techcrunch.com/category/artificial-intelligence/\", \"title\": \"AI News & Artificial Intelligence | TechCrunch\", \"content\": \"### Elon Musk’s xAI sues Apple and OpenAI, alleging anticompetitive collusion\\n\\nGreg Brockman\\n\\n### Silicon Valley is pouring millions into pro-AI PACs to sway midterms\\n\\nImage of the RM5.\\n\\n### Robomart unveils new delivery robot with $3 flat fee to challenge DoorDash, Uber Eats\\n\\nThe Grok app on a smartphone\\n\\n### Elon Musk says xAI has open sourced Grok 2.5\\n\\nthe logos of Open AI displayed on both computer and smart phone screen\\n\\n### OpenAI warns against SPVs and other ‘unauthorized’ investments [...] ### Anthropic settles AI book-training lawsuit with authors\\n\\nLip-Bu Tan, Intel, Trump administration\\n\\n### Why the US government is not the savior Intel needs\\n\\nAmazon Kindle e-reader laying on a wooden surface\\n\\n### Libby’s library app adds an AI discovery feature, and not everyone is thrilled\\n\\n### Meta to spend tens of millions on pro-AI super PAC\\n\\n### After falling behind in generative AI, IBM and AMD look to quantum for an edge [...] Contact Us\\n\\n# AI\\n\\nNews coverage on artificial intelligence and machine learning tech, the companies building them, and the ethical issues AI raises today. This encompasses generative AI, including large language models, text-to-image and text-to-video models; speech recognition and generation; and predictive analytics.\\n\\n### \\n\\nMaisa founders David Villalon and Manuel Romera\\n\\n### Maisa AI gets $25M to fix enterprise AI’s 95% failure rate\", \"score\": 0.6690754, \"raw_content\": null}, {\"url\": \"https://www.cbsnews.com/news/ai-artificial-intelligence-jobs-workers/\", \"title\": \"New study sheds light on what kinds of workers are losing ...\", \"content\": \"The research highlights two fields in particular where AI already appears to be supplanting a significant number of young workers: software engineering and customer service. Between late 2022 and July 2025, entry-level employment in those areas declined by roughly 20%, according to the report, while employment for older workers in the same jobs grew. [...] Early-career employees in fields that are most exposed to AI have experienced a 13% drop in employment since 2022, compared to more experienced workers in the same fields and when measured against people in sectors less buffeted by the fast-emerging technology, according to a recent working paper from Stanford economists Erik Brynjolfsson, Bharat Chandar and Ruyu Chen. [...] Watch CBS News\\n\\n# New study sheds light on what kinds of workers are losing jobs to AI\\n\\nmoneywatch\\n\\nAugust 28, 2025 / 5:00 AM EDT\\n/ CBS News\\n\\nArtificial intelligence is replacing entry-level workers whose jobs can be performed by generative AI tools like ChatGPT, a rigorous new study finds.\", \"score\": 0.61112726, \"raw_content\": null}], \"response_time\": 1.94, \"request_id\": \"10bff68e-d085-4436-9ab9-2162ad325523\"}\n"
     ]
    }
   ],
   "source": [
    "for m in response['messages']:\n",
    "    m.pretty_print()"
   ]
  },
  {
   "cell_type": "code",
   "execution_count": 12,
   "id": "74264482",
   "metadata": {},
   "outputs": [
    {
     "name": "stdout",
     "output_type": "stream",
     "text": [
      "================================\u001b[1m Human Message \u001b[0m=================================\n",
      "\n",
      "What is 5 multiplied by 2\n",
      "==================================\u001b[1m Ai Message \u001b[0m==================================\n",
      "Tool Calls:\n",
      "  multiply (g52xgpv0b)\n",
      " Call ID: g52xgpv0b\n",
      "  Args:\n",
      "    a: 5\n",
      "    b: 2\n",
      "=================================\u001b[1m Tool Message \u001b[0m=================================\n",
      "Name: multiply\n",
      "\n",
      "10\n"
     ]
    }
   ],
   "source": [
    "response=graph.invoke({\"messages\":\"What is 5 multiplied by 2\"})\n",
    "for m in response['messages']:\n",
    "    m.pretty_print()"
   ]
  },
  {
   "cell_type": "code",
   "execution_count": 14,
   "id": "ade26413",
   "metadata": {},
   "outputs": [
    {
     "name": "stdout",
     "output_type": "stream",
     "text": [
      "================================\u001b[1m Human Message \u001b[0m=================================\n",
      "\n",
      "Give me the recent ai news and then multiply 5 by 10\n",
      "==================================\u001b[1m Ai Message \u001b[0m==================================\n",
      "Tool Calls:\n",
      "  tavily_search (xbtm0masg)\n",
      " Call ID: xbtm0masg\n",
      "  Args:\n",
      "    query: recent ai news\n",
      "    search_depth: advanced\n",
      "    topic: news\n",
      "=================================\u001b[1m Tool Message \u001b[0m=================================\n",
      "Name: tavily_search\n",
      "\n",
      "{\"query\": \"recent ai news\", \"follow_up_questions\": null, \"answer\": null, \"images\": [], \"results\": [{\"url\": \"https://www.forbes.com/sites/markminevich/2025/08/26/ais-1-trillion-shakeout-bubble-correction-or-market-reset/\", \"title\": \"AI’s $1 Trillion Shakeout: Bubble, Correction, Or Market Reset - Forbes\", \"score\": 0.78413767, \"published_date\": \"Wed, 27 Aug 2025 00:32:46 GMT\", \"content\": \"In recent weeks, AI investors and enterprise leaders have felt the yo-yo effect of the AI market. On Monday, August 6th, alone, tech’s megacap companies lost nearly $1 trillion. Nvidia, Palantir, and other so-called AI companies shed billions in value in a matter of days. Meta has announced a hiring freeze in its AI division. Even the CEO of OpenAI, Sam Altman, casually remarked that “AI is a bubble.” [...] In the near term, volatility is unavoidable. Valuations will continue to be tested. Venture funding will tighten, forcing weak AI startups into consolidation or collapse. Public companies that heavily rely on AI marketing without demonstrating effective adoption will remain under pressure.\\n\\nThe headlines and hype around $100 million salaries and “AI everywhere” marketing will cool. Many projects will be quietly wound down as the easy money phase of AI comes to an end.\", \"raw_content\": null}, {\"url\": \"https://www.consultancy.eu/news/12083/europe-behind-us-in-ai-arms-race-accenture-report\", \"title\": \"Europe behind US in AI arms race: Accenture report - Consultancy.eu\", \"score\": 0.66229486, \"published_date\": \"Mon, 25 Aug 2025 14:05:56 GMT\", \"content\": \"As artificial intelligence radically reshapes business, around 90% of organisations do not believe they are adequately prepared to secure their organisations against AI-centred cyber-attacks.\\n\\n11 August 2025\\n\\nAccenture moves in to new Birmingham office\\n\\nAccenture has become the latest consulting firm to announce a growing presence in Birmingham.\\n\\n01 August 2025\\n\\nEurope missing opportunity to plug productivity gap with AI [...] Organisations underprepared for cyber-threats from AI adoption\\n\\nAs artificial intelligence radically reshapes business, around 90% of organisations do not believe they are adequately prepared to secure their organisations against AI-centred cyber-attacks.\\n\\n11 August 2025\\n\\nAccenture moves in to new Birmingham office\\n\\nAccenture has become the latest consulting firm to announce a growing presence in Birmingham.\\n\\n01 August 2025\\n\\nEurope missing opportunity to plug productivity gap with AI [...] Organisations underprepared for cyber-threats from AI adoption\\n\\nAs artificial intelligence radically reshapes business, around 90% of organisations do not believe they are adequately prepared to secure their organisations against AI-centred cyber-attacks.\\n\\n11 August 2025\\n\\nAccenture moves in to new Birmingham office\\n\\nAccenture has become the latest consulting firm to announce a growing presence in Birmingham.\\n\\n01 August 2025\\n\\nEurope missing opportunity to plug productivity gap with AI\", \"raw_content\": null}], \"response_time\": 1.33, \"request_id\": \"ebbb5c2d-84d8-4ce1-96d2-fc1bace580a5\"}\n"
     ]
    }
   ],
   "source": [
    "response=graph.invoke({\"messages\":\"Give me the recent ai news and then multiply 5 by 10\"})\n",
    "for m in response['messages']:\n",
    "    m.pretty_print()"
   ]
  }
 ],
 "metadata": {
  "kernelspec": {
   "display_name": ".venv",
   "language": "python",
   "name": "python3"
  },
  "language_info": {
   "codemirror_mode": {
    "name": "ipython",
    "version": 3
   },
   "file_extension": ".py",
   "mimetype": "text/x-python",
   "name": "python",
   "nbconvert_exporter": "python",
   "pygments_lexer": "ipython3",
   "version": "3.11.11"
  }
 },
 "nbformat": 4,
 "nbformat_minor": 5
}
