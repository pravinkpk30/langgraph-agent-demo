{
 "cells": [
  {
   "cell_type": "markdown",
   "id": "14a62e46",
   "metadata": {},
   "source": [
    "# ReAct Agent Architecture"
   ]
  },
  {
   "cell_type": "code",
   "execution_count": 48,
   "id": "b220abea",
   "metadata": {},
   "outputs": [],
   "source": [
    "from typing import Annotated\n",
    "from typing_extensions import TypedDict\n",
    "from langgraph.graph import StateGraph, START, END\n",
    "from langgraph.graph.message import add_messages"
   ]
  },
  {
   "cell_type": "code",
   "execution_count": 49,
   "id": "a209d65a",
   "metadata": {},
   "outputs": [
    {
     "data": {
      "text/plain": [
       "{'query': 'What is langgraph',\n",
       " 'follow_up_questions': None,\n",
       " 'answer': None,\n",
       " 'images': [],\n",
       " 'results': [{'url': 'https://www.ibm.com/think/topics/langgraph',\n",
       "   'title': 'What is LangGraph? - IBM',\n",
       "   'content': 'LangGraph, created by LangChain, is an open source AI agent framework designed to build, deploy and manage complex generative AI agent workflows. At its core, LangGraph uses the power of graph-based architectures to model and manage the intricate relationships between various components of an AI agent workflow. LangGraph illuminates the processes within an AI workflow, allowing full transparency of the agent’s state. By combining these technologies with a set of APIs and tools, LangGraph provides users with a versatile platform for developing AI solutions and workflows including chatbots, state graphs and other agent-based systems. **Nodes**: In LangGraph, nodes represent individual components or agents within an AI workflow. LangGraph uses enhanced decision-making by modeling complex relationships between nodes, which means it uses AI agents to analyze their past actions and feedback.',\n",
       "   'score': 0.9400512,\n",
       "   'raw_content': None},\n",
       "  {'url': 'https://cobusgreyling.medium.com/langgraph-from-langchain-explained-in-simple-terms-f7cd0c12cdbf',\n",
       "   'title': 'LangGraph From LangChain Explained In Simple Terms',\n",
       "   'content': \"Jun 17, 2024·LangGraph is a method for creating state machines for conversational flow by defining them as graphs & it's easier to understand than you might think.\",\n",
       "   'score': 0.9314689,\n",
       "   'raw_content': None}],\n",
       " 'response_time': 0.83,\n",
       " 'request_id': '6990055a-74f0-4aa4-8c28-87fbee99ad94'}"
      ]
     },
     "execution_count": 49,
     "metadata": {},
     "output_type": "execute_result"
    }
   ],
   "source": [
    "from langchain_tavily import TavilySearch\n",
    "import os\n",
    "from dotenv import load_dotenv\n",
    "load_dotenv()\n",
    "\n",
    "tool=TavilySearch(max_results=2)\n",
    "tool.invoke(\"What is langgraph\")"
   ]
  },
  {
   "cell_type": "code",
   "execution_count": 50,
   "id": "2916f956",
   "metadata": {},
   "outputs": [],
   "source": [
    "## Custom function\n",
    "def multiply(a:int,b:int)->int:\n",
    "    \"\"\"Multiply a and b\n",
    "\n",
    "    Args:\n",
    "        a (int): first int\n",
    "        b (int): second int\n",
    "\n",
    "    Returns:\n",
    "        int: output int\n",
    "    \"\"\"\n",
    "    return a*b"
   ]
  },
  {
   "cell_type": "code",
   "execution_count": 51,
   "id": "3082a478",
   "metadata": {},
   "outputs": [],
   "source": [
    "tools = [tool, multiply]"
   ]
  },
  {
   "cell_type": "code",
   "execution_count": 52,
   "id": "be65d7cf",
   "metadata": {},
   "outputs": [],
   "source": [
    "from langchain_groq import ChatGroq\n",
    "from langchain.chat_models import init_chat_model\n",
    "\n",
    "llm=ChatGroq(model=\"llama3-8b-8192\")"
   ]
  },
  {
   "cell_type": "code",
   "execution_count": 53,
   "id": "d39a48a1",
   "metadata": {},
   "outputs": [],
   "source": [
    "llm_with_tool = llm.bind_tools(tools)"
   ]
  },
  {
   "cell_type": "code",
   "execution_count": 54,
   "id": "a789351b",
   "metadata": {},
   "outputs": [],
   "source": [
    "# State defined\n",
    "class State(TypedDict):\n",
    "    # Messages have the type \"list\". The `add_messages` function\n",
    "    # in the annotation defines how this state key should be updated\n",
    "    # (in this case, it appends messages to the list, rather than overwriting them)\n",
    "    messages: Annotated[list, add_messages]"
   ]
  },
  {
   "cell_type": "code",
   "execution_count": 55,
   "id": "d024a0c7",
   "metadata": {},
   "outputs": [
    {
     "data": {
      "image/png": "[encoded data removed]",
      "text/plain": [
       "<IPython.core.display.Image object>"
      ]
     },
     "metadata": {},
     "output_type": "display_data"
    }
   ],
   "source": [
    "## Stategraph\n",
    "from langgraph.graph import StateGraph,START,END\n",
    "from langgraph.prebuilt import ToolNode\n",
    "from langgraph.prebuilt import tools_condition\n",
    "\n",
    "## Node definition\n",
    "def tool_calling_llm(state:State):\n",
    "    return {\"messages\":[llm_with_tool.invoke(state[\"messages\"])]}\n",
    "\n",
    "## Grpah\n",
    "builder=StateGraph(State)\n",
    "builder.add_node(\"tool_calling_llm\",tool_calling_llm)\n",
    "builder.add_node(\"tools\",ToolNode(tools))\n",
    "\n",
    "## Add Edges\n",
    "builder.add_edge(START, \"tool_calling_llm\")\n",
    "builder.add_conditional_edges(\n",
    "    \"tool_calling_llm\",\n",
    "    # If the latest message (result) from assistant is a tool call -> tools_condition routes to tools\n",
    "    # If the latest message (result) from assistant is a not a tool call -> tools_condition routes to END\n",
    "    tools_condition\n",
    ")\n",
    "builder.add_edge(\"tools\",\"tool_calling_llm\")\n",
    "\n",
    "## compile the graph\n",
    "graph=builder.compile()\n",
    "\n",
    "from IPython.display import Image, display\n",
    "display(Image(graph.get_graph().draw_mermaid_png()))"
   ]
  },
  {
   "cell_type": "code",
   "execution_count": 57,
   "id": "e0a00696",
   "metadata": {},
   "outputs": [
    {
     "name": "stdout",
     "output_type": "stream",
     "text": [
      "================================\u001b[1m Human Message \u001b[0m=================================\n",
      "\n",
      "Give me the recent ai news and then multiply 5 by 10\n",
      "==================================\u001b[1m Ai Message \u001b[0m==================================\n",
      "Tool Calls:\n",
      "  tavily_search (hf7r2cxxg)\n",
      " Call ID: hf7r2cxxg\n",
      "  Args:\n",
      "    query: recent AI news\n",
      "    search_depth: advanced\n",
      "    topic: news\n",
      "=================================\u001b[1m Tool Message \u001b[0m=================================\n",
      "Name: tavily_search\n",
      "\n",
      "{\"query\": \"recent AI news\", \"follow_up_questions\": null, \"answer\": null, \"images\": [], \"results\": [{\"url\": \"https://www.cnet.com/tech/services-and-software/nvidia-ceo-says-more-advanced-ai-models-will-keep-chip-data-center-growth-going/\", \"title\": \"Nvidia CEO Says More Advanced AI Models Will Keep Chip, Data Center Growth Going - CNET\", \"score\": 0.65146625, \"published_date\": \"Wed, 27 Aug 2025 23:13:00 GMT\", \"content\": \"\\\"I think the next several years, surely through the decade, we see really significant growth opportunities ahead,\\\" Huang said.\\n\\nCompare that with recent comments from OpenAI CEO Sam Altman, who said he believes investors right now are \\\"overexcited about AI.\\\" (Altman also acknowledged that he still believes AI is \\\"the most important thing to happen in a very long time.\\\") [...] That means a lot of data centers, which take up a lot of land and use a great deal of water and energy. These AI factories have gotten bigger and bigger in recent years, with significant impacts on the communities around them and a greater strain on the US electric grid. And the growth of different generative AI tools that require even more energy could make that demand even greater.\", \"raw_content\": null}, {\"url\": \"https://www.startupecosystem.ca/news/mitti-labs-utilizes-ai-to-support-climate-friendly-rice-farming/\", \"title\": \"Mitti Labs Utilizes AI to Support Climate-Friendly Rice Farming - Startup Ecosystem Canada\", \"score\": 0.6439794, \"published_date\": \"Tue, 26 Aug 2025 22:05:32 GMT\", \"content\": \"### Related Posts\\n\\n2 months ago\\nGlobal\\nPerplexity Launches AI-Powered Browser Comet to Challenge Google\\n\\n### Perplexity Launches AI-Powered Browser Comet to Challenge Google\\n\\nStartup Eco System9 July 2025\\n\\n3 months ago\\nGlobal\\nCharacter.AI Expands Multimedia Features Amidst Concerns of Platform Abuse\\n\\n### Character.AI Expands Multimedia Features Amidst Concerns of Platform Abuse\\n\\nStartup Eco System2 June 2025\\n\\n4 weeks ago\\nGlobal\\nCanada Pledges $1 Million to UK for AI Safety Research [...] acquisition\\nAI\\nAI development\\nAI infrastructure\\nAI innovation\\nAI integration\\nAI investment\\nAI models\\nAI technology\\nAmazon\\nAnthropic\\nApple\\nArtificial Intelligence\\nAutonomous vehicles\\nCanada founder news\\nCanada startup news\\ncryptocurrency\\nCybersecurity\\nDeepSeek\\nElectric Vehicles\\nElon Musk\\nentrepreneurship\\nfintech\\nGenerative AI\\nGlobal founder news\\nGlobal startup news\\nhealthcare innovation\\nInnovation\\ninvestment\\nIPO\\nMeta\\nMicrosoft\\nNvidia\\nOntario founder news\\nOntario startup news\\nOpenAI\\nSam Altman\", \"raw_content\": null}], \"response_time\": 1.01, \"request_id\": \"4c2ec775-69f9-4f72-8d9b-76110b84a0bb\"}\n",
      "==================================\u001b[1m Ai Message \u001b[0m==================================\n",
      "\n",
      "Based on the tool call output, I can extract the recent AI news articles. Here are the titles and URLs:\n",
      "\n",
      "1. \"Nvidia CEO Says More Advanced AI Models Will Keep Chip, Data Center Growth Going\" - https://www.cnet.com/tech/services-and-software/nvidia-ceo-says-more-advanced-ai-models-will-keep-chip-data-center-growth-going/\n",
      "2. \"Mitti Labs Utilizes AI to Support Climate-Friendly Rice Farming\" - https://www.startupecosystem.ca/news/mitti-labs-utilizes-ai-to-support-climate-friendly-rice-farming/\n",
      "\n",
      "Now, let's multiply 5 by 10:\n",
      "\n",
      "5 x 10 = 50\n"
     ]
    }
   ],
   "source": [
    "response=graph.invoke({\"messages\":\"Give me the recent ai news and then multiply 5 by 10\"})\n",
    "for m in response['messages']:\n",
    "    m.pretty_print()"
   ]
  },
  {
   "cell_type": "markdown",
   "id": "1377d012",
   "metadata": {},
   "source": [
    "## Adding Memory In Agentic Graph"
   ]
  },
  {
   "cell_type": "code",
   "execution_count": 59,
   "id": "94b06de0",
   "metadata": {},
   "outputs": [
    {
     "name": "stdout",
     "output_type": "stream",
     "text": [
      "================================\u001b[1m Human Message \u001b[0m=================================\n",
      "\n",
      "Hello my name is Praveen\n",
      "==================================\u001b[1m Ai Message \u001b[0m==================================\n",
      "Tool Calls:\n",
      "  tavily_search (62jfrpef4)\n",
      " Call ID: 62jfrpef4\n",
      "  Args:\n",
      "    query: Praveen\n",
      "=================================\u001b[1m Tool Message \u001b[0m=================================\n",
      "Name: tavily_search\n",
      "\n",
      "{\"query\": \"Praveen\", \"follow_up_questions\": null, \"answer\": null, \"images\": [], \"results\": [{\"url\": \"https://en.wikipedia.org/wiki/Praveen_(actor)\", \"title\": \"Praveen (actor) - Wikipedia\", \"content\": \"Praveen is an Indian actor known for his comic roles in Telugu films like Prema Katha Chitram, Sambho Siva Sambho, Rama Rama Krishna Krishna, Mirapakay,\", \"score\": 0.8889231, \"raw_content\": null}, {\"url\": \"https://www.theusconstitution.org/staff/praveen-fernandes/\", \"title\": \"Praveen Fernandes - Constitutional Accountability Center\", \"content\": \"Praveen is Vice President at Constitutional Accountability Center (CAC). He comes to CAC from The Raben Group, where he was a Principal, advising non-profit\", \"score\": 0.7101667, \"raw_content\": null}], \"response_time\": 1.54, \"request_id\": \"5ea84268-e72c-424f-b2c2-ba27df957f94\"}\n",
      "==================================\u001b[1m Ai Message \u001b[0m==================================\n",
      "Tool Calls:\n",
      "  tavily_search (gnwvj0bbr)\n",
      " Call ID: gnwvj0bbr\n",
      "  Args:\n",
      "    query: Praveen actor biography\n",
      "=================================\u001b[1m Tool Message \u001b[0m=================================\n",
      "Name: tavily_search\n",
      "\n",
      "{\"query\": \"Praveen actor biography\", \"follow_up_questions\": null, \"answer\": null, \"images\": [], \"results\": [{\"url\": \"https://www.filmibeat.com/celebs/praveen-kannada-actor.html\", \"title\": \"Praveen - Photos, Videos, Birthday, Latest News, Height In Feet\", \"content\": \"Biography: Praveen is an Indian film Actor and doctor in the profession, who has worked predominantly in the Kannada movie industry.\", \"score\": 0.8706085, \"raw_content\": null}, {\"url\": \"https://en.wikipedia.org/wiki/Praveen_Kumar_Sobti\", \"title\": \"Praveen Kumar Sobti - Wikipedia\", \"content\": \"Praveen Kumar Sobti (6 December 1947 – 7 February 2022) was an Indian hammer and discus thrower, actor, politician, and soldier with Border Security Force.\", \"score\": 0.72042775, \"raw_content\": null}], \"response_time\": 1.64, \"request_id\": \"e40af6d9-2848-4ade-a7e0-acb16cd6626f\"}\n",
      "==================================\u001b[1m Ai Message \u001b[0m==================================\n",
      "\n",
      "It seems that the tool call id \"gnwvj0bbr\" yielded some relevant results. Based on the output, it appears that Praveen is an Indian actor who has worked in the Kannada movie industry, as well as a doctor. He has also been involved in other fields such as athletics and politics.\n",
      "\n",
      "Here's a response based on the results:\n",
      "\n",
      "\"Praveen is an Indian film actor and doctor who has worked predominantly in the Kannada movie industry. He has also been involved in other fields such as athletics and politics. According to Wikipedia, he was born on December 6, 1947, and passed away on February 7, 2022.\"\n",
      "\n",
      "Let me know if you'd like to call another tool or respond with more text.\n"
     ]
    }
   ],
   "source": [
    "response=graph.invoke({\"messages\":\"Hello my name is Praveen\"})\n",
    "for m in response['messages']:\n",
    "    m.pretty_print()"
   ]
  },
  {
   "cell_type": "code",
   "execution_count": 60,
   "id": "2f5a1a3f",
   "metadata": {},
   "outputs": [
    {
     "data": {
      "image/png": "[encoded data removed]",
      "text/plain": [
       "<IPython.core.display.Image object>"
      ]
     },
     "metadata": {},
     "output_type": "display_data"
    }
   ],
   "source": [
    "## Stategraph\n",
    "from langgraph.graph import StateGraph,START,END\n",
    "from langgraph.prebuilt import ToolNode\n",
    "from langgraph.prebuilt import tools_condition\n",
    "from langgraph.checkpoint.memory import MemorySaver\n",
    "\n",
    "memory = MemorySaver()\n",
    "\n",
    "## Node definition\n",
    "def tool_calling_llm(state:State):\n",
    "    return {\"messages\":[llm_with_tool.invoke(state[\"messages\"])]}\n",
    "\n",
    "## Grpah\n",
    "builder=StateGraph(State)\n",
    "builder.add_node(\"tool_calling_llm\",tool_calling_llm)\n",
    "builder.add_node(\"tools\",ToolNode(tools))\n",
    "\n",
    "## Add Edges\n",
    "builder.add_edge(START, \"tool_calling_llm\")\n",
    "builder.add_conditional_edges(\n",
    "    \"tool_calling_llm\",\n",
    "    # If the latest message (result) from assistant is a tool call -> tools_condition routes to tools\n",
    "    # If the latest message (result) from assistant is a not a tool call -> tools_condition routes to END\n",
    "    tools_condition\n",
    ")\n",
    "builder.add_edge(\"tools\",\"tool_calling_llm\")\n",
    "\n",
    "## compile the graph\n",
    "graph=builder.compile(checkpointer=memory)\n",
    "\n",
    "from IPython.display import Image, display\n",
    "display(Image(graph.get_graph().draw_mermaid_png()))"
   ]
  },
  {
   "cell_type": "code",
   "execution_count": 61,
   "id": "f9359b4b",
   "metadata": {},
   "outputs": [
    {
     "data": {
      "text/plain": [
       "{'messages': [HumanMessage(content='Hi my name is Praveen', additional_kwargs={}, response_metadata={}, id='3e3c4c52-ebfc-46e2-8427-e0c95ceda7c4'),\n",
       "  AIMessage(content='', additional_kwargs={'tool_calls': [{'id': 'nk0b9vhvs', 'function': {'arguments': '{\"query\":\"Praveen\"}', 'name': 'tavily_search'}, 'type': 'function'}]}, response_metadata={'token_usage': {'completion_tokens': 145, 'prompt_tokens': 2869, 'total_tokens': 3014, 'completion_time': 0.121762997, 'prompt_time': 0.600420717, 'queue_time': 0.045665306, 'total_time': 0.722183714}, 'model_name': 'llama3-8b-8192', 'system_fingerprint': 'fp_4b5fbf0ced', 'service_tier': 'on_demand', 'finish_reason': 'tool_calls', 'logprobs': None}, id='run--9c91c73d-3dbc-45e1-b804-23674b60e989-0', tool_calls=[{'name': 'tavily_search', 'args': {'query': 'Praveen'}, 'id': 'nk0b9vhvs', 'type': 'tool_call'}], usage_metadata={'input_tokens': 2869, 'output_tokens': 145, 'total_tokens': 3014}),\n",
       "  ToolMessage(content='{\"query\": \"Praveen\", \"follow_up_questions\": null, \"answer\": null, \"images\": [], \"results\": [{\"url\": \"https://en.wikipedia.org/wiki/Praveen_(actor)\", \"title\": \"Praveen (actor) - Wikipedia\", \"content\": \"Praveen is an Indian actor known for his comic roles in Telugu films like Prema Katha Chitram, Sambho Siva Sambho, Rama Rama Krishna Krishna, Mirapakay,\", \"score\": 0.8889231, \"raw_content\": null}, {\"url\": \"https://www.theusconstitution.org/staff/praveen-fernandes/\", \"title\": \"Praveen Fernandes - Constitutional Accountability Center\", \"content\": \"Praveen is Vice President at Constitutional Accountability Center (CAC). He comes to CAC from The Raben Group, where he was a Principal, advising non-profit\", \"score\": 0.7101667, \"raw_content\": null}], \"response_time\": 1.01, \"request_id\": \"5e87d958-965b-49b1-b8f4-6176e912f609\"}', name='tavily_search', id='abdd2b89-8f18-4d11-8b2c-6c8719dfc797', tool_call_id='nk0b9vhvs'),\n",
       "  AIMessage(content='', additional_kwargs={'tool_calls': [{'id': 'aqj8knt30', 'function': {'arguments': '{\"a\":1,\"b\":2}', 'name': 'multiply'}, 'type': 'function'}]}, response_metadata={'token_usage': {'completion_tokens': 36, 'prompt_tokens': 3188, 'total_tokens': 3224, 'completion_time': 0.030018346, 'prompt_time': 0.358859894, 'queue_time': 0.270355529, 'total_time': 0.38887824}, 'model_name': 'llama3-8b-8192', 'system_fingerprint': 'fp_4b5fbf0ced', 'service_tier': 'on_demand', 'finish_reason': 'tool_calls', 'logprobs': None}, id='run--7a61f7b6-d198-4b54-9a6d-a88a979345bd-0', tool_calls=[{'name': 'multiply', 'args': {'a': 1, 'b': 2}, 'id': 'aqj8knt30', 'type': 'tool_call'}], usage_metadata={'input_tokens': 3188, 'output_tokens': 36, 'total_tokens': 3224}),\n",
       "  ToolMessage(content='2', name='multiply', id='1b0db605-0678-49a4-8c9c-24a564e894c8', tool_call_id='aqj8knt30'),\n",
       "  AIMessage(content='It seems like the tool call id \"aqj8knt30\" was used to calculate the result of multiplying 1 and 2, which equals 2.\\n\\nNow, let\\'s get back to the conversation. You initially called the tool for tool call id \"nk0b9vhvs\" and it yielded some results related to a person named Praveen. Can you please specify what you would like to know about Praveen or what you would like to do next?', additional_kwargs={}, response_metadata={'token_usage': {'completion_tokens': 99, 'prompt_tokens': 3259, 'total_tokens': 3358, 'completion_time': 0.082906091, 'prompt_time': 0.50832757, 'queue_time': 2.038424622, 'total_time': 0.591233661}, 'model_name': 'llama3-8b-8192', 'system_fingerprint': 'fp_4b5fbf0ced', 'service_tier': 'on_demand', 'finish_reason': 'stop', 'logprobs': None}, id='run--cc91f0c3-a3a9-4bed-a64c-22ab750af26d-0', usage_metadata={'input_tokens': 3259, 'output_tokens': 99, 'total_tokens': 3358})]}"
      ]
     },
     "execution_count": 61,
     "metadata": {},
     "output_type": "execute_result"
    }
   ],
   "source": [
    "config={\"configurable\":{\"thread_id\":\"1\"}}\n",
    "\n",
    "response=graph.invoke({\"messages\":\"Hi my name is Praveen\"},config=config)\n",
    "\n",
    "response"
   ]
  },
  {
   "cell_type": "code",
   "execution_count": 62,
   "id": "626bf620",
   "metadata": {},
   "outputs": [
    {
     "data": {
      "text/plain": [
       "'It seems like the tool call id \"aqj8knt30\" was used to calculate the result of multiplying 1 and 2, which equals 2.\\n\\nNow, let\\'s get back to the conversation. You initially called the tool for tool call id \"nk0b9vhvs\" and it yielded some results related to a person named Praveen. Can you please specify what you would like to know about Praveen or what you would like to do next?'"
      ]
     },
     "execution_count": 62,
     "metadata": {},
     "output_type": "execute_result"
    }
   ],
   "source": [
    "response['messages'][-1].content"
   ]
  },
  {
   "cell_type": "code",
   "execution_count": 63,
   "id": "8b14ee77",
   "metadata": {},
   "outputs": [
    {
     "name": "stdout",
     "output_type": "stream",
     "text": [
      "I remember! Your name is Praveen.\n"
     ]
    }
   ],
   "source": [
    "response=graph.invoke({\"messages\":\"Hey what is my name\"},config=config)\n",
    "\n",
    "print(response['messages'][-1].content)"
   ]
  },
  {
   "cell_type": "code",
   "execution_count": 64,
   "id": "d76cccde",
   "metadata": {},
   "outputs": [
    {
     "name": "stdout",
     "output_type": "stream",
     "text": [
      "Yes, I remember. Your name is Praveen.\n"
     ]
    }
   ],
   "source": [
    "response=graph.invoke({\"messages\":\"Hey do you remember my name\"},config=config)\n",
    "\n",
    "print(response['messages'][-1].content)"
   ]
  },
  {
   "cell_type": "markdown",
   "id": "17e7283b",
   "metadata": {},
   "source": [
    "# Streaming"
   ]
  },
  {
   "cell_type": "code",
   "execution_count": 65,
   "id": "aea189c5",
   "metadata": {},
   "outputs": [],
   "source": [
    "from langgraph.checkpoint.memory import MemorySaver\n",
    "memory=MemorySaver()"
   ]
  },
  {
   "cell_type": "code",
   "execution_count": 66,
   "id": "73e99872",
   "metadata": {},
   "outputs": [],
   "source": [
    "def superbot(state:State):\n",
    "    return {\"messages\":[llm.invoke(state['messages'])]}"
   ]
  },
  {
   "cell_type": "code",
   "execution_count": 67,
   "id": "eede2def",
   "metadata": {},
   "outputs": [
    {
     "data": {
      "image/png": "[encoded data removed]",
      "text/plain": [
       "<IPython.core.display.Image object>"
      ]
     },
     "metadata": {},
     "output_type": "display_data"
    }
   ],
   "source": [
    "graph=StateGraph(State)\n",
    "\n",
    "## node\n",
    "graph.add_node(\"SuperBot\",superbot)\n",
    "## Edges\n",
    "\n",
    "graph.add_edge(START,\"SuperBot\")\n",
    "graph.add_edge(\"SuperBot\",END)\n",
    "\n",
    "\n",
    "graph_builder=graph.compile(checkpointer=memory)\n",
    "\n",
    "\n",
    "## Display\n",
    "from IPython.display import Image, display\n",
    "display(Image(graph_builder.get_graph().draw_mermaid_png()))"
   ]
  },
  {
   "cell_type": "code",
   "execution_count": 72,
   "id": "6a85c1a7",
   "metadata": {},
   "outputs": [
    {
     "data": {
      "text/plain": [
       "{'messages': [HumanMessage(content='Hi,My name is Krish And I like cricket', additional_kwargs={}, response_metadata={}, id='d2e0c693-da25-4c6a-b0ae-0e0d1b5f35da'),\n",
       "  AIMessage(content=\"Nice to meet you, Krish! That's great that you like cricket! What's your favorite team or player? Are you an avid fan of the Indian cricket team or do you follow international teams like Australia, England, or South Africa?\", additional_kwargs={}, response_metadata={'token_usage': {'completion_tokens': 49, 'prompt_tokens': 20, 'total_tokens': 69, 'completion_time': 0.040998604, 'prompt_time': 0.0083598, 'queue_time': 0.581730504, 'total_time': 0.049358404}, 'model_name': 'llama3-8b-8192', 'system_fingerprint': 'fp_4b5fbf0ced', 'service_tier': 'on_demand', 'finish_reason': 'stop', 'logprobs': None}, id='run--bc6165f3-f10f-460d-89e9-d1a3e4b12eae-0', usage_metadata={'input_tokens': 20, 'output_tokens': 49, 'total_tokens': 69}),\n",
       "  HumanMessage(content='Hi,My name is Praveen And I like cricket', additional_kwargs={}, response_metadata={}, id='57400b3e-30b8-418a-8549-83d09d1abbc0'),\n",
       "  AIMessage(content=\"Nice to meet you, Praveen! It seems like we have a cricket enthusiast in the making! It's great that you like cricket too! What's your favorite aspect of the game? Is it the fast-paced action of a T20 match, the strategic nuances of Test cricket, or the thrill of a closely contested ODI?\", additional_kwargs={}, response_metadata={'token_usage': {'completion_tokens': 69, 'prompt_tokens': 90, 'total_tokens': 159, 'completion_time': 0.057708658, 'prompt_time': 0.019163271, 'queue_time': 0.418060584, 'total_time': 0.076871929}, 'model_name': 'llama3-8b-8192', 'system_fingerprint': 'fp_4b5fbf0ced', 'service_tier': 'on_demand', 'finish_reason': 'stop', 'logprobs': None}, id='run--b72b9c8b-ab80-4460-b2d3-7fb17e5d19fe-0', usage_metadata={'input_tokens': 90, 'output_tokens': 69, 'total_tokens': 159})]}"
      ]
     },
     "execution_count": 72,
     "metadata": {},
     "output_type": "execute_result"
    }
   ],
   "source": [
    "## Invocation\n",
    "\n",
    "config = {\"configurable\": {\"thread_id\": \"1\"}}\n",
    "\n",
    "graph_builder.invoke({'messages':\"Hi,My name is Praveen And I like cricket\"},config)"
   ]
  },
  {
   "cell_type": "markdown",
   "id": "01bdfd60",
   "metadata": {},
   "source": [
    "## Streaming\n",
    "Methods: .stream() and astream()\n",
    "\n",
    "These methods are sync and async methods for streaming back results.\n",
    "Additional parameters in streaming modes for graph state\n",
    "\n",
    "values : This streams the full state of the graph after each node is called.\n",
    "updates : This streams updates to the state of the graph after each node is called."
   ]
  },
  {
   "cell_type": "code",
   "execution_count": 73,
   "id": "906933c5",
   "metadata": {},
   "outputs": [
    {
     "name": "stdout",
     "output_type": "stream",
     "text": [
      "{'SuperBot': {'messages': [AIMessage(content='Nice to meet you, Praveen! Cricket is a fantastic sport! Do you have a favorite team or player?', additional_kwargs={}, response_metadata={'token_usage': {'completion_tokens': 25, 'prompt_tokens': 128, 'total_tokens': 153, 'completion_time': 0.020876193, 'prompt_time': 0.020798815, 'queue_time': 0.546439344, 'total_time': 0.041675008}, 'model_name': 'llama3-8b-8192', 'system_fingerprint': 'fp_4b5fbf0ced', 'service_tier': 'on_demand', 'finish_reason': 'stop', 'logprobs': None}, id='run--83cdee2e-54ef-4332-a6fb-7c059f806b17-0', usage_metadata={'input_tokens': 128, 'output_tokens': 25, 'total_tokens': 153})]}}\n"
     ]
    }
   ],
   "source": [
    "# Create a thread\n",
    "config = {\"configurable\": {\"thread_id\": \"3\"}}\n",
    "\n",
    "for chunk in graph_builder.stream({'messages':\"Hi,My name is Praveen And I like cricket\"},config,stream_mode=\"updates\"):\n",
    "    print(chunk)"
   ]
  },
  {
   "cell_type": "code",
   "execution_count": 74,
   "id": "d0ff770e",
   "metadata": {},
   "outputs": [
    {
     "name": "stdout",
     "output_type": "stream",
     "text": [
      "{'messages': [HumanMessage(content='Hi,My name is Krish And I like cricket', additional_kwargs={}, response_metadata={}, id='b4a9c559-8db8-4102-a6d5-2e0453aff1dc'), AIMessage(content='Nice to meet you, Krish! Cricket is a fantastic sport! Do you have a favorite team or player?', additional_kwargs={}, response_metadata={'token_usage': {'completion_tokens': 23, 'prompt_tokens': 20, 'total_tokens': 43, 'completion_time': 0.019298918, 'prompt_time': 0.008415329, 'queue_time': 1.209412287, 'total_time': 0.027714247}, 'model_name': 'llama3-8b-8192', 'system_fingerprint': 'fp_4b5fbf0ced', 'service_tier': 'on_demand', 'finish_reason': 'stop', 'logprobs': None}, id='run--dd34dbc4-a48a-420f-bbd9-a3c97c23f926-0', usage_metadata={'input_tokens': 20, 'output_tokens': 23, 'total_tokens': 43}), HumanMessage(content='Hi,My name is Krish And I like cricket', additional_kwargs={}, response_metadata={}, id='409e5d83-3330-4922-a610-c4e3ffaaa967'), AIMessage(content='Nice to meet you, Krish! Cricket is a fantastic sport! Do you have a favorite team or player?', additional_kwargs={}, response_metadata={'token_usage': {'completion_tokens': 23, 'prompt_tokens': 62, 'total_tokens': 85, 'completion_time': 0.019342347, 'prompt_time': 0.013514284, 'queue_time': 1.229617182, 'total_time': 0.032856631}, 'model_name': 'llama3-8b-8192', 'system_fingerprint': 'fp_4b5fbf0ced', 'service_tier': 'on_demand', 'finish_reason': 'stop', 'logprobs': None}, id='run--dbe45b6f-1dd0-424c-899b-162e12c0f2d2-0', usage_metadata={'input_tokens': 62, 'output_tokens': 23, 'total_tokens': 85}), HumanMessage(content='Hi,My name is Praveen And I like cricket', additional_kwargs={}, response_metadata={}, id='911cda91-fbb4-490f-8ff4-0860e27cf290'), HumanMessage(content='Hi,My name is Praveen And I like cricket', additional_kwargs={}, response_metadata={}, id='f8aaa59a-4b75-428e-9040-0211e761ffc3'), AIMessage(content='Nice to meet you, Praveen! Cricket is a fantastic sport! Do you have a favorite team or player?', additional_kwargs={}, response_metadata={'token_usage': {'completion_tokens': 25, 'prompt_tokens': 128, 'total_tokens': 153, 'completion_time': 0.020876193, 'prompt_time': 0.020798815, 'queue_time': 0.546439344, 'total_time': 0.041675008}, 'model_name': 'llama3-8b-8192', 'system_fingerprint': 'fp_4b5fbf0ced', 'service_tier': 'on_demand', 'finish_reason': 'stop', 'logprobs': None}, id='run--83cdee2e-54ef-4332-a6fb-7c059f806b17-0', usage_metadata={'input_tokens': 128, 'output_tokens': 25, 'total_tokens': 153}), HumanMessage(content='Hi,My name is Praveen And I like cricket', additional_kwargs={}, response_metadata={}, id='3b667651-5199-4037-890e-7cf9ddf61066')]}\n",
      "{'messages': [HumanMessage(content='Hi,My name is Krish And I like cricket', additional_kwargs={}, response_metadata={}, id='b4a9c559-8db8-4102-a6d5-2e0453aff1dc'), AIMessage(content='Nice to meet you, Krish! Cricket is a fantastic sport! Do you have a favorite team or player?', additional_kwargs={}, response_metadata={'token_usage': {'completion_tokens': 23, 'prompt_tokens': 20, 'total_tokens': 43, 'completion_time': 0.019298918, 'prompt_time': 0.008415329, 'queue_time': 1.209412287, 'total_time': 0.027714247}, 'model_name': 'llama3-8b-8192', 'system_fingerprint': 'fp_4b5fbf0ced', 'service_tier': 'on_demand', 'finish_reason': 'stop', 'logprobs': None}, id='run--dd34dbc4-a48a-420f-bbd9-a3c97c23f926-0', usage_metadata={'input_tokens': 20, 'output_tokens': 23, 'total_tokens': 43}), HumanMessage(content='Hi,My name is Krish And I like cricket', additional_kwargs={}, response_metadata={}, id='409e5d83-3330-4922-a610-c4e3ffaaa967'), AIMessage(content='Nice to meet you, Krish! Cricket is a fantastic sport! Do you have a favorite team or player?', additional_kwargs={}, response_metadata={'token_usage': {'completion_tokens': 23, 'prompt_tokens': 62, 'total_tokens': 85, 'completion_time': 0.019342347, 'prompt_time': 0.013514284, 'queue_time': 1.229617182, 'total_time': 0.032856631}, 'model_name': 'llama3-8b-8192', 'system_fingerprint': 'fp_4b5fbf0ced', 'service_tier': 'on_demand', 'finish_reason': 'stop', 'logprobs': None}, id='run--dbe45b6f-1dd0-424c-899b-162e12c0f2d2-0', usage_metadata={'input_tokens': 62, 'output_tokens': 23, 'total_tokens': 85}), HumanMessage(content='Hi,My name is Praveen And I like cricket', additional_kwargs={}, response_metadata={}, id='911cda91-fbb4-490f-8ff4-0860e27cf290'), HumanMessage(content='Hi,My name is Praveen And I like cricket', additional_kwargs={}, response_metadata={}, id='f8aaa59a-4b75-428e-9040-0211e761ffc3'), AIMessage(content='Nice to meet you, Praveen! Cricket is a fantastic sport! Do you have a favorite team or player?', additional_kwargs={}, response_metadata={'token_usage': {'completion_tokens': 25, 'prompt_tokens': 128, 'total_tokens': 153, 'completion_time': 0.020876193, 'prompt_time': 0.020798815, 'queue_time': 0.546439344, 'total_time': 0.041675008}, 'model_name': 'llama3-8b-8192', 'system_fingerprint': 'fp_4b5fbf0ced', 'service_tier': 'on_demand', 'finish_reason': 'stop', 'logprobs': None}, id='run--83cdee2e-54ef-4332-a6fb-7c059f806b17-0', usage_metadata={'input_tokens': 128, 'output_tokens': 25, 'total_tokens': 153}), HumanMessage(content='Hi,My name is Praveen And I like cricket', additional_kwargs={}, response_metadata={}, id='3b667651-5199-4037-890e-7cf9ddf61066'), AIMessage(content=\"I think we've had a déjà vu moment! It seems like you're introducing yourself again, Praveen! Don't worry, I'm happy to chat with you about cricket! Who's your favorite cricketer or team?\", additional_kwargs={}, response_metadata={'token_usage': {'completion_tokens': 48, 'prompt_tokens': 174, 'total_tokens': 222, 'completion_time': 0.040190964, 'prompt_time': 0.036704725, 'queue_time': 0.048086885, 'total_time': 0.076895689}, 'model_name': 'llama3-8b-8192', 'system_fingerprint': 'fp_4b5fbf0ced', 'service_tier': 'on_demand', 'finish_reason': 'stop', 'logprobs': None}, id='run--9ec77d3e-c13b-4bc7-a4f0-dbdacd92e541-0', usage_metadata={'input_tokens': 174, 'output_tokens': 48, 'total_tokens': 222})]}\n"
     ]
    }
   ],
   "source": [
    "for chunk in graph_builder.stream({'messages':\"Hi,My name is Praveen And I like cricket\"},config,stream_mode=\"values\"):\n",
    "    print(chunk)"
   ]
  },
  {
   "cell_type": "code",
   "execution_count": 75,
   "id": "b914e8df",
   "metadata": {},
   "outputs": [
    {
     "name": "stdout",
     "output_type": "stream",
     "text": [
      "{'SuperBot': {'messages': [AIMessage(content='Nice to meet you, Praveen! Cricket is a fantastic sport! Which team or player do you support? Are you a fan of the Indian cricket team or do you have a favorite international team?', additional_kwargs={}, response_metadata={'token_usage': {'completion_tokens': 42, 'prompt_tokens': 22, 'total_tokens': 64, 'completion_time': 0.035018476, 'prompt_time': 0.008475344, 'queue_time': 1.226720323, 'total_time': 0.04349382}, 'model_name': 'llama3-8b-8192', 'system_fingerprint': 'fp_4b5fbf0ced', 'service_tier': 'on_demand', 'finish_reason': 'stop', 'logprobs': None}, id='run--354668ce-5a06-4d26-8d7b-7c73a523ae27-0', usage_metadata={'input_tokens': 22, 'output_tokens': 42, 'total_tokens': 64})]}}\n"
     ]
    }
   ],
   "source": [
    "# Create a thread\n",
    "config = {\"configurable\": {\"thread_id\": \"4\"}}\n",
    "\n",
    "for chunk in graph_builder.stream({'messages':\"Hi,My name is Praveen And I like cricket\"},config,stream_mode=\"updates\"):\n",
    "    print(chunk)"
   ]
  },
  {
   "cell_type": "code",
   "execution_count": 76,
   "id": "0691855a",
   "metadata": {},
   "outputs": [
    {
     "name": "stdout",
     "output_type": "stream",
     "text": [
      "{'messages': [HumanMessage(content='Hi,My name is Praveen And I like cricket', additional_kwargs={}, response_metadata={}, id='5dbbf662-56c2-40a3-97a6-f3c673f04846'), AIMessage(content='Nice to meet you, Praveen! Cricket is a fantastic sport! Which team or player do you support? Are you a fan of the Indian cricket team or do you have a favorite international team?', additional_kwargs={}, response_metadata={'token_usage': {'completion_tokens': 42, 'prompt_tokens': 22, 'total_tokens': 64, 'completion_time': 0.035018476, 'prompt_time': 0.008475344, 'queue_time': 1.226720323, 'total_time': 0.04349382}, 'model_name': 'llama3-8b-8192', 'system_fingerprint': 'fp_4b5fbf0ced', 'service_tier': 'on_demand', 'finish_reason': 'stop', 'logprobs': None}, id='run--354668ce-5a06-4d26-8d7b-7c73a523ae27-0', usage_metadata={'input_tokens': 22, 'output_tokens': 42, 'total_tokens': 64}), HumanMessage(content='I also like football', additional_kwargs={}, response_metadata={}, id='7496293e-1c88-4198-b117-2b07475d402f')]}\n",
      "{'messages': [HumanMessage(content='Hi,My name is Praveen And I like cricket', additional_kwargs={}, response_metadata={}, id='5dbbf662-56c2-40a3-97a6-f3c673f04846'), AIMessage(content='Nice to meet you, Praveen! Cricket is a fantastic sport! Which team or player do you support? Are you a fan of the Indian cricket team or do you have a favorite international team?', additional_kwargs={}, response_metadata={'token_usage': {'completion_tokens': 42, 'prompt_tokens': 22, 'total_tokens': 64, 'completion_time': 0.035018476, 'prompt_time': 0.008475344, 'queue_time': 1.226720323, 'total_time': 0.04349382}, 'model_name': 'llama3-8b-8192', 'system_fingerprint': 'fp_4b5fbf0ced', 'service_tier': 'on_demand', 'finish_reason': 'stop', 'logprobs': None}, id='run--354668ce-5a06-4d26-8d7b-7c73a523ae27-0', usage_metadata={'input_tokens': 22, 'output_tokens': 42, 'total_tokens': 64}), HumanMessage(content='I also like football', additional_kwargs={}, response_metadata={}, id='7496293e-1c88-4198-b117-2b07475d402f'), AIMessage(content='A sports enthusiast! Football and cricket are both amazing sports. Which football team or league do you follow? Are you a fan of the Indian Super League (ISL) or do you have a favorite European league like the Premier League, La Liga, or the Champions League?', additional_kwargs={}, response_metadata={'token_usage': {'completion_tokens': 56, 'prompt_tokens': 77, 'total_tokens': 133, 'completion_time': 0.046746698, 'prompt_time': 0.011686242, 'queue_time': 0.049182408, 'total_time': 0.05843294}, 'model_name': 'llama3-8b-8192', 'system_fingerprint': 'fp_4b5fbf0ced', 'service_tier': 'on_demand', 'finish_reason': 'stop', 'logprobs': None}, id='run--a3b8b755-7fbb-43cc-98f9-7f8ea114094d-0', usage_metadata={'input_tokens': 77, 'output_tokens': 56, 'total_tokens': 133})]}\n"
     ]
    }
   ],
   "source": [
    "for chunk in graph_builder.stream({'messages':\"I also like football\"},config,stream_mode=\"values\"):\n",
    "    print(chunk)"
   ]
  },
  {
   "cell_type": "code",
   "execution_count": 77,
   "id": "e12b9ebb",
   "metadata": {},
   "outputs": [
    {
     "name": "stdout",
     "output_type": "stream",
     "text": [
      "{'event': 'on_chain_start', 'data': {'input': {'messages': ['Hi My name is Krish and I like to play cricket']}}, 'name': 'LangGraph', 'tags': [], 'run_id': '1a0c32e9-edf9-46b8-83b7-61fea357c23d', 'metadata': {'thread_id': '5'}, 'parent_ids': []}\n",
      "{'event': 'on_chain_start', 'data': {'input': {'messages': [HumanMessage(content='Hi My name is Krish and I like to play cricket', additional_kwargs={}, response_metadata={}, id='35a5e768-5986-4d96-850e-e3118b33e586')]}}, 'name': 'SuperBot', 'tags': ['graph:step:1'], 'run_id': '21fee6fc-35ae-47a3-80b2-fe528905fad8', 'metadata': {'thread_id': '5', 'langgraph_step': 1, 'langgraph_node': 'SuperBot', 'langgraph_triggers': ('branch:to:SuperBot',), 'langgraph_path': ('__pregel_pull', 'SuperBot'), 'langgraph_checkpoint_ns': 'SuperBot:b57c5d2e-d6db-617a-a0be-ea7d774e20c8'}, 'parent_ids': ['1a0c32e9-edf9-46b8-83b7-61fea357c23d']}\n",
      "{'event': 'on_chat_model_start', 'data': {'input': {'messages': [[HumanMessage(content='Hi My name is Krish and I like to play cricket', additional_kwargs={}, response_metadata={}, id='35a5e768-5986-4d96-850e-e3118b33e586')]]}}, 'name': 'ChatGroq', 'tags': ['seq:step:1'], 'run_id': '7d1e0593-a820-4656-97aa-fae2e11003c2', 'metadata': {'thread_id': '5', 'langgraph_step': 1, 'langgraph_node': 'SuperBot', 'langgraph_triggers': ('branch:to:SuperBot',), 'langgraph_path': ('__pregel_pull', 'SuperBot'), 'langgraph_checkpoint_ns': 'SuperBot:b57c5d2e-d6db-617a-a0be-ea7d774e20c8', 'checkpoint_ns': 'SuperBot:b57c5d2e-d6db-617a-a0be-ea7d774e20c8', 'ls_provider': 'groq', 'ls_model_name': 'llama3-8b-8192', 'ls_model_type': 'chat', 'ls_temperature': 0.7}, 'parent_ids': ['1a0c32e9-edf9-46b8-83b7-61fea357c23d', '21fee6fc-35ae-47a3-80b2-fe528905fad8']}\n",
      "{'event': 'on_chat_model_stream', 'data': {'chunk': AIMessageChunk(content='', additional_kwargs={}, response_metadata={}, id='run--7d1e0593-a820-4656-97aa-fae2e11003c2')}, 'run_id': '7d1e0593-a820-4656-97aa-fae2e11003c2', 'name': 'ChatGroq', 'tags': ['seq:step:1'], 'metadata': {'thread_id': '5', 'langgraph_step': 1, 'langgraph_node': 'SuperBot', 'langgraph_triggers': ('branch:to:SuperBot',), 'langgraph_path': ('__pregel_pull', 'SuperBot'), 'langgraph_checkpoint_ns': 'SuperBot:b57c5d2e-d6db-617a-a0be-ea7d774e20c8', 'checkpoint_ns': 'SuperBot:b57c5d2e-d6db-617a-a0be-ea7d774e20c8', 'ls_provider': 'groq', 'ls_model_name': 'llama3-8b-8192', 'ls_model_type': 'chat', 'ls_temperature': 0.7}, 'parent_ids': ['1a0c32e9-edf9-46b8-83b7-61fea357c23d', '21fee6fc-35ae-47a3-80b2-fe528905fad8']}\n",
      "{'event': 'on_chat_model_stream', 'data': {'chunk': AIMessageChunk(content='Hi', additional_kwargs={}, response_metadata={}, id='run--7d1e0593-a820-4656-97aa-fae2e11003c2')}, 'run_id': '7d1e0593-a820-4656-97aa-fae2e11003c2', 'name': 'ChatGroq', 'tags': ['seq:step:1'], 'metadata': {'thread_id': '5', 'langgraph_step': 1, 'langgraph_node': 'SuperBot', 'langgraph_triggers': ('branch:to:SuperBot',), 'langgraph_path': ('__pregel_pull', 'SuperBot'), 'langgraph_checkpoint_ns': 'SuperBot:b57c5d2e-d6db-617a-a0be-ea7d774e20c8', 'checkpoint_ns': 'SuperBot:b57c5d2e-d6db-617a-a0be-ea7d774e20c8', 'ls_provider': 'groq', 'ls_model_name': 'llama3-8b-8192', 'ls_model_type': 'chat', 'ls_temperature': 0.7}, 'parent_ids': ['1a0c32e9-edf9-46b8-83b7-61fea357c23d', '21fee6fc-35ae-47a3-80b2-fe528905fad8']}\n",
      "{'event': 'on_chat_model_stream', 'data': {'chunk': AIMessageChunk(content=' Krish', additional_kwargs={}, response_metadata={}, id='run--7d1e0593-a820-4656-97aa-fae2e11003c2')}, 'run_id': '7d1e0593-a820-4656-97aa-fae2e11003c2', 'name': 'ChatGroq', 'tags': ['seq:step:1'], 'metadata': {'thread_id': '5', 'langgraph_step': 1, 'langgraph_node': 'SuperBot', 'langgraph_triggers': ('branch:to:SuperBot',), 'langgraph_path': ('__pregel_pull', 'SuperBot'), 'langgraph_checkpoint_ns': 'SuperBot:b57c5d2e-d6db-617a-a0be-ea7d774e20c8', 'checkpoint_ns': 'SuperBot:b57c5d2e-d6db-617a-a0be-ea7d774e20c8', 'ls_provider': 'groq', 'ls_model_name': 'llama3-8b-8192', 'ls_model_type': 'chat', 'ls_temperature': 0.7}, 'parent_ids': ['1a0c32e9-edf9-46b8-83b7-61fea357c23d', '21fee6fc-35ae-47a3-80b2-fe528905fad8']}\n",
      "{'event': 'on_chat_model_stream', 'data': {'chunk': AIMessageChunk(content='!', additional_kwargs={}, response_metadata={}, id='run--7d1e0593-a820-4656-97aa-fae2e11003c2')}, 'run_id': '7d1e0593-a820-4656-97aa-fae2e11003c2', 'name': 'ChatGroq', 'tags': ['seq:step:1'], 'metadata': {'thread_id': '5', 'langgraph_step': 1, 'langgraph_node': 'SuperBot', 'langgraph_triggers': ('branch:to:SuperBot',), 'langgraph_path': ('__pregel_pull', 'SuperBot'), 'langgraph_checkpoint_ns': 'SuperBot:b57c5d2e-d6db-617a-a0be-ea7d774e20c8', 'checkpoint_ns': 'SuperBot:b57c5d2e-d6db-617a-a0be-ea7d774e20c8', 'ls_provider': 'groq', 'ls_model_name': 'llama3-8b-8192', 'ls_model_type': 'chat', 'ls_temperature': 0.7}, 'parent_ids': ['1a0c32e9-edf9-46b8-83b7-61fea357c23d', '21fee6fc-35ae-47a3-80b2-fe528905fad8']}\n",
      "{'event': 'on_chat_model_stream', 'data': {'chunk': AIMessageChunk(content=' That', additional_kwargs={}, response_metadata={}, id='run--7d1e0593-a820-4656-97aa-fae2e11003c2')}, 'run_id': '7d1e0593-a820-4656-97aa-fae2e11003c2', 'name': 'ChatGroq', 'tags': ['seq:step:1'], 'metadata': {'thread_id': '5', 'langgraph_step': 1, 'langgraph_node': 'SuperBot', 'langgraph_triggers': ('branch:to:SuperBot',), 'langgraph_path': ('__pregel_pull', 'SuperBot'), 'langgraph_checkpoint_ns': 'SuperBot:b57c5d2e-d6db-617a-a0be-ea7d774e20c8', 'checkpoint_ns': 'SuperBot:b57c5d2e-d6db-617a-a0be-ea7d774e20c8', 'ls_provider': 'groq', 'ls_model_name': 'llama3-8b-8192', 'ls_model_type': 'chat', 'ls_temperature': 0.7}, 'parent_ids': ['1a0c32e9-edf9-46b8-83b7-61fea357c23d', '21fee6fc-35ae-47a3-80b2-fe528905fad8']}\n",
      "{'event': 'on_chat_model_stream', 'data': {'chunk': AIMessageChunk(content=\"'s\", additional_kwargs={}, response_metadata={}, id='run--7d1e0593-a820-4656-97aa-fae2e11003c2')}, 'run_id': '7d1e0593-a820-4656-97aa-fae2e11003c2', 'name': 'ChatGroq', 'tags': ['seq:step:1'], 'metadata': {'thread_id': '5', 'langgraph_step': 1, 'langgraph_node': 'SuperBot', 'langgraph_triggers': ('branch:to:SuperBot',), 'langgraph_path': ('__pregel_pull', 'SuperBot'), 'langgraph_checkpoint_ns': 'SuperBot:b57c5d2e-d6db-617a-a0be-ea7d774e20c8', 'checkpoint_ns': 'SuperBot:b57c5d2e-d6db-617a-a0be-ea7d774e20c8', 'ls_provider': 'groq', 'ls_model_name': 'llama3-8b-8192', 'ls_model_type': 'chat', 'ls_temperature': 0.7}, 'parent_ids': ['1a0c32e9-edf9-46b8-83b7-61fea357c23d', '21fee6fc-35ae-47a3-80b2-fe528905fad8']}\n",
      "{'event': 'on_chat_model_stream', 'data': {'chunk': AIMessageChunk(content=' great', additional_kwargs={}, response_metadata={}, id='run--7d1e0593-a820-4656-97aa-fae2e11003c2')}, 'run_id': '7d1e0593-a820-4656-97aa-fae2e11003c2', 'name': 'ChatGroq', 'tags': ['seq:step:1'], 'metadata': {'thread_id': '5', 'langgraph_step': 1, 'langgraph_node': 'SuperBot', 'langgraph_triggers': ('branch:to:SuperBot',), 'langgraph_path': ('__pregel_pull', 'SuperBot'), 'langgraph_checkpoint_ns': 'SuperBot:b57c5d2e-d6db-617a-a0be-ea7d774e20c8', 'checkpoint_ns': 'SuperBot:b57c5d2e-d6db-617a-a0be-ea7d774e20c8', 'ls_provider': 'groq', 'ls_model_name': 'llama3-8b-8192', 'ls_model_type': 'chat', 'ls_temperature': 0.7}, 'parent_ids': ['1a0c32e9-edf9-46b8-83b7-61fea357c23d', '21fee6fc-35ae-47a3-80b2-fe528905fad8']}\n",
      "{'event': 'on_chat_model_stream', 'data': {'chunk': AIMessageChunk(content=' to', additional_kwargs={}, response_metadata={}, id='run--7d1e0593-a820-4656-97aa-fae2e11003c2')}, 'run_id': '7d1e0593-a820-4656-97aa-fae2e11003c2', 'name': 'ChatGroq', 'tags': ['seq:step:1'], 'metadata': {'thread_id': '5', 'langgraph_step': 1, 'langgraph_node': 'SuperBot', 'langgraph_triggers': ('branch:to:SuperBot',), 'langgraph_path': ('__pregel_pull', 'SuperBot'), 'langgraph_checkpoint_ns': 'SuperBot:b57c5d2e-d6db-617a-a0be-ea7d774e20c8', 'checkpoint_ns': 'SuperBot:b57c5d2e-d6db-617a-a0be-ea7d774e20c8', 'ls_provider': 'groq', 'ls_model_name': 'llama3-8b-8192', 'ls_model_type': 'chat', 'ls_temperature': 0.7}, 'parent_ids': ['1a0c32e9-edf9-46b8-83b7-61fea357c23d', '21fee6fc-35ae-47a3-80b2-fe528905fad8']}\n",
      "{'event': 'on_chat_model_stream', 'data': {'chunk': AIMessageChunk(content=' hear', additional_kwargs={}, response_metadata={}, id='run--7d1e0593-a820-4656-97aa-fae2e11003c2')}, 'run_id': '7d1e0593-a820-4656-97aa-fae2e11003c2', 'name': 'ChatGroq', 'tags': ['seq:step:1'], 'metadata': {'thread_id': '5', 'langgraph_step': 1, 'langgraph_node': 'SuperBot', 'langgraph_triggers': ('branch:to:SuperBot',), 'langgraph_path': ('__pregel_pull', 'SuperBot'), 'langgraph_checkpoint_ns': 'SuperBot:b57c5d2e-d6db-617a-a0be-ea7d774e20c8', 'checkpoint_ns': 'SuperBot:b57c5d2e-d6db-617a-a0be-ea7d774e20c8', 'ls_provider': 'groq', 'ls_model_name': 'llama3-8b-8192', 'ls_model_type': 'chat', 'ls_temperature': 0.7}, 'parent_ids': ['1a0c32e9-edf9-46b8-83b7-61fea357c23d', '21fee6fc-35ae-47a3-80b2-fe528905fad8']}\n",
      "{'event': 'on_chat_model_stream', 'data': {'chunk': AIMessageChunk(content=' that', additional_kwargs={}, response_metadata={}, id='run--7d1e0593-a820-4656-97aa-fae2e11003c2')}, 'run_id': '7d1e0593-a820-4656-97aa-fae2e11003c2', 'name': 'ChatGroq', 'tags': ['seq:step:1'], 'metadata': {'thread_id': '5', 'langgraph_step': 1, 'langgraph_node': 'SuperBot', 'langgraph_triggers': ('branch:to:SuperBot',), 'langgraph_path': ('__pregel_pull', 'SuperBot'), 'langgraph_checkpoint_ns': 'SuperBot:b57c5d2e-d6db-617a-a0be-ea7d774e20c8', 'checkpoint_ns': 'SuperBot:b57c5d2e-d6db-617a-a0be-ea7d774e20c8', 'ls_provider': 'groq', 'ls_model_name': 'llama3-8b-8192', 'ls_model_type': 'chat', 'ls_temperature': 0.7}, 'parent_ids': ['1a0c32e9-edf9-46b8-83b7-61fea357c23d', '21fee6fc-35ae-47a3-80b2-fe528905fad8']}\n",
      "{'event': 'on_chat_model_stream', 'data': {'chunk': AIMessageChunk(content=' you', additional_kwargs={}, response_metadata={}, id='run--7d1e0593-a820-4656-97aa-fae2e11003c2')}, 'run_id': '7d1e0593-a820-4656-97aa-fae2e11003c2', 'name': 'ChatGroq', 'tags': ['seq:step:1'], 'metadata': {'thread_id': '5', 'langgraph_step': 1, 'langgraph_node': 'SuperBot', 'langgraph_triggers': ('branch:to:SuperBot',), 'langgraph_path': ('__pregel_pull', 'SuperBot'), 'langgraph_checkpoint_ns': 'SuperBot:b57c5d2e-d6db-617a-a0be-ea7d774e20c8', 'checkpoint_ns': 'SuperBot:b57c5d2e-d6db-617a-a0be-ea7d774e20c8', 'ls_provider': 'groq', 'ls_model_name': 'llama3-8b-8192', 'ls_model_type': 'chat', 'ls_temperature': 0.7}, 'parent_ids': ['1a0c32e9-edf9-46b8-83b7-61fea357c23d', '21fee6fc-35ae-47a3-80b2-fe528905fad8']}\n",
      "{'event': 'on_chat_model_stream', 'data': {'chunk': AIMessageChunk(content=' like', additional_kwargs={}, response_metadata={}, id='run--7d1e0593-a820-4656-97aa-fae2e11003c2')}, 'run_id': '7d1e0593-a820-4656-97aa-fae2e11003c2', 'name': 'ChatGroq', 'tags': ['seq:step:1'], 'metadata': {'thread_id': '5', 'langgraph_step': 1, 'langgraph_node': 'SuperBot', 'langgraph_triggers': ('branch:to:SuperBot',), 'langgraph_path': ('__pregel_pull', 'SuperBot'), 'langgraph_checkpoint_ns': 'SuperBot:b57c5d2e-d6db-617a-a0be-ea7d774e20c8', 'checkpoint_ns': 'SuperBot:b57c5d2e-d6db-617a-a0be-ea7d774e20c8', 'ls_provider': 'groq', 'ls_model_name': 'llama3-8b-8192', 'ls_model_type': 'chat', 'ls_temperature': 0.7}, 'parent_ids': ['1a0c32e9-edf9-46b8-83b7-61fea357c23d', '21fee6fc-35ae-47a3-80b2-fe528905fad8']}\n",
      "{'event': 'on_chat_model_stream', 'data': {'chunk': AIMessageChunk(content=' to', additional_kwargs={}, response_metadata={}, id='run--7d1e0593-a820-4656-97aa-fae2e11003c2')}, 'run_id': '7d1e0593-a820-4656-97aa-fae2e11003c2', 'name': 'ChatGroq', 'tags': ['seq:step:1'], 'metadata': {'thread_id': '5', 'langgraph_step': 1, 'langgraph_node': 'SuperBot', 'langgraph_triggers': ('branch:to:SuperBot',), 'langgraph_path': ('__pregel_pull', 'SuperBot'), 'langgraph_checkpoint_ns': 'SuperBot:b57c5d2e-d6db-617a-a0be-ea7d774e20c8', 'checkpoint_ns': 'SuperBot:b57c5d2e-d6db-617a-a0be-ea7d774e20c8', 'ls_provider': 'groq', 'ls_model_name': 'llama3-8b-8192', 'ls_model_type': 'chat', 'ls_temperature': 0.7}, 'parent_ids': ['1a0c32e9-edf9-46b8-83b7-61fea357c23d', '21fee6fc-35ae-47a3-80b2-fe528905fad8']}\n",
      "{'event': 'on_chat_model_stream', 'data': {'chunk': AIMessageChunk(content=' play', additional_kwargs={}, response_metadata={}, id='run--7d1e0593-a820-4656-97aa-fae2e11003c2')}, 'run_id': '7d1e0593-a820-4656-97aa-fae2e11003c2', 'name': 'ChatGroq', 'tags': ['seq:step:1'], 'metadata': {'thread_id': '5', 'langgraph_step': 1, 'langgraph_node': 'SuperBot', 'langgraph_triggers': ('branch:to:SuperBot',), 'langgraph_path': ('__pregel_pull', 'SuperBot'), 'langgraph_checkpoint_ns': 'SuperBot:b57c5d2e-d6db-617a-a0be-ea7d774e20c8', 'checkpoint_ns': 'SuperBot:b57c5d2e-d6db-617a-a0be-ea7d774e20c8', 'ls_provider': 'groq', 'ls_model_name': 'llama3-8b-8192', 'ls_model_type': 'chat', 'ls_temperature': 0.7}, 'parent_ids': ['1a0c32e9-edf9-46b8-83b7-61fea357c23d', '21fee6fc-35ae-47a3-80b2-fe528905fad8']}\n",
      "{'event': 'on_chat_model_stream', 'data': {'chunk': AIMessageChunk(content=' cricket', additional_kwargs={}, response_metadata={}, id='run--7d1e0593-a820-4656-97aa-fae2e11003c2')}, 'run_id': '7d1e0593-a820-4656-97aa-fae2e11003c2', 'name': 'ChatGroq', 'tags': ['seq:step:1'], 'metadata': {'thread_id': '5', 'langgraph_step': 1, 'langgraph_node': 'SuperBot', 'langgraph_triggers': ('branch:to:SuperBot',), 'langgraph_path': ('__pregel_pull', 'SuperBot'), 'langgraph_checkpoint_ns': 'SuperBot:b57c5d2e-d6db-617a-a0be-ea7d774e20c8', 'checkpoint_ns': 'SuperBot:b57c5d2e-d6db-617a-a0be-ea7d774e20c8', 'ls_provider': 'groq', 'ls_model_name': 'llama3-8b-8192', 'ls_model_type': 'chat', 'ls_temperature': 0.7}, 'parent_ids': ['1a0c32e9-edf9-46b8-83b7-61fea357c23d', '21fee6fc-35ae-47a3-80b2-fe528905fad8']}\n",
      "{'event': 'on_chat_model_stream', 'data': {'chunk': AIMessageChunk(content='!', additional_kwargs={}, response_metadata={}, id='run--7d1e0593-a820-4656-97aa-fae2e11003c2')}, 'run_id': '7d1e0593-a820-4656-97aa-fae2e11003c2', 'name': 'ChatGroq', 'tags': ['seq:step:1'], 'metadata': {'thread_id': '5', 'langgraph_step': 1, 'langgraph_node': 'SuperBot', 'langgraph_triggers': ('branch:to:SuperBot',), 'langgraph_path': ('__pregel_pull', 'SuperBot'), 'langgraph_checkpoint_ns': 'SuperBot:b57c5d2e-d6db-617a-a0be-ea7d774e20c8', 'checkpoint_ns': 'SuperBot:b57c5d2e-d6db-617a-a0be-ea7d774e20c8', 'ls_provider': 'groq', 'ls_model_name': 'llama3-8b-8192', 'ls_model_type': 'chat', 'ls_temperature': 0.7}, 'parent_ids': ['1a0c32e9-edf9-46b8-83b7-61fea357c23d', '21fee6fc-35ae-47a3-80b2-fe528905fad8']}\n",
      "{'event': 'on_chat_model_stream', 'data': {'chunk': AIMessageChunk(content=' It', additional_kwargs={}, response_metadata={}, id='run--7d1e0593-a820-4656-97aa-fae2e11003c2')}, 'run_id': '7d1e0593-a820-4656-97aa-fae2e11003c2', 'name': 'ChatGroq', 'tags': ['seq:step:1'], 'metadata': {'thread_id': '5', 'langgraph_step': 1, 'langgraph_node': 'SuperBot', 'langgraph_triggers': ('branch:to:SuperBot',), 'langgraph_path': ('__pregel_pull', 'SuperBot'), 'langgraph_checkpoint_ns': 'SuperBot:b57c5d2e-d6db-617a-a0be-ea7d774e20c8', 'checkpoint_ns': 'SuperBot:b57c5d2e-d6db-617a-a0be-ea7d774e20c8', 'ls_provider': 'groq', 'ls_model_name': 'llama3-8b-8192', 'ls_model_type': 'chat', 'ls_temperature': 0.7}, 'parent_ids': ['1a0c32e9-edf9-46b8-83b7-61fea357c23d', '21fee6fc-35ae-47a3-80b2-fe528905fad8']}\n",
      "{'event': 'on_chat_model_stream', 'data': {'chunk': AIMessageChunk(content=\"'s\", additional_kwargs={}, response_metadata={}, id='run--7d1e0593-a820-4656-97aa-fae2e11003c2')}, 'run_id': '7d1e0593-a820-4656-97aa-fae2e11003c2', 'name': 'ChatGroq', 'tags': ['seq:step:1'], 'metadata': {'thread_id': '5', 'langgraph_step': 1, 'langgraph_node': 'SuperBot', 'langgraph_triggers': ('branch:to:SuperBot',), 'langgraph_path': ('__pregel_pull', 'SuperBot'), 'langgraph_checkpoint_ns': 'SuperBot:b57c5d2e-d6db-617a-a0be-ea7d774e20c8', 'checkpoint_ns': 'SuperBot:b57c5d2e-d6db-617a-a0be-ea7d774e20c8', 'ls_provider': 'groq', 'ls_model_name': 'llama3-8b-8192', 'ls_model_type': 'chat', 'ls_temperature': 0.7}, 'parent_ids': ['1a0c32e9-edf9-46b8-83b7-61fea357c23d', '21fee6fc-35ae-47a3-80b2-fe528905fad8']}\n",
      "{'event': 'on_chat_model_stream', 'data': {'chunk': AIMessageChunk(content=' a', additional_kwargs={}, response_metadata={}, id='run--7d1e0593-a820-4656-97aa-fae2e11003c2')}, 'run_id': '7d1e0593-a820-4656-97aa-fae2e11003c2', 'name': 'ChatGroq', 'tags': ['seq:step:1'], 'metadata': {'thread_id': '5', 'langgraph_step': 1, 'langgraph_node': 'SuperBot', 'langgraph_triggers': ('branch:to:SuperBot',), 'langgraph_path': ('__pregel_pull', 'SuperBot'), 'langgraph_checkpoint_ns': 'SuperBot:b57c5d2e-d6db-617a-a0be-ea7d774e20c8', 'checkpoint_ns': 'SuperBot:b57c5d2e-d6db-617a-a0be-ea7d774e20c8', 'ls_provider': 'groq', 'ls_model_name': 'llama3-8b-8192', 'ls_model_type': 'chat', 'ls_temperature': 0.7}, 'parent_ids': ['1a0c32e9-edf9-46b8-83b7-61fea357c23d', '21fee6fc-35ae-47a3-80b2-fe528905fad8']}\n",
      "{'event': 'on_chat_model_stream', 'data': {'chunk': AIMessageChunk(content=' fantastic', additional_kwargs={}, response_metadata={}, id='run--7d1e0593-a820-4656-97aa-fae2e11003c2')}, 'run_id': '7d1e0593-a820-4656-97aa-fae2e11003c2', 'name': 'ChatGroq', 'tags': ['seq:step:1'], 'metadata': {'thread_id': '5', 'langgraph_step': 1, 'langgraph_node': 'SuperBot', 'langgraph_triggers': ('branch:to:SuperBot',), 'langgraph_path': ('__pregel_pull', 'SuperBot'), 'langgraph_checkpoint_ns': 'SuperBot:b57c5d2e-d6db-617a-a0be-ea7d774e20c8', 'checkpoint_ns': 'SuperBot:b57c5d2e-d6db-617a-a0be-ea7d774e20c8', 'ls_provider': 'groq', 'ls_model_name': 'llama3-8b-8192', 'ls_model_type': 'chat', 'ls_temperature': 0.7}, 'parent_ids': ['1a0c32e9-edf9-46b8-83b7-61fea357c23d', '21fee6fc-35ae-47a3-80b2-fe528905fad8']}\n",
      "{'event': 'on_chat_model_stream', 'data': {'chunk': AIMessageChunk(content=' sport', additional_kwargs={}, response_metadata={}, id='run--7d1e0593-a820-4656-97aa-fae2e11003c2')}, 'run_id': '7d1e0593-a820-4656-97aa-fae2e11003c2', 'name': 'ChatGroq', 'tags': ['seq:step:1'], 'metadata': {'thread_id': '5', 'langgraph_step': 1, 'langgraph_node': 'SuperBot', 'langgraph_triggers': ('branch:to:SuperBot',), 'langgraph_path': ('__pregel_pull', 'SuperBot'), 'langgraph_checkpoint_ns': 'SuperBot:b57c5d2e-d6db-617a-a0be-ea7d774e20c8', 'checkpoint_ns': 'SuperBot:b57c5d2e-d6db-617a-a0be-ea7d774e20c8', 'ls_provider': 'groq', 'ls_model_name': 'llama3-8b-8192', 'ls_model_type': 'chat', 'ls_temperature': 0.7}, 'parent_ids': ['1a0c32e9-edf9-46b8-83b7-61fea357c23d', '21fee6fc-35ae-47a3-80b2-fe528905fad8']}\n",
      "{'event': 'on_chat_model_stream', 'data': {'chunk': AIMessageChunk(content=' that', additional_kwargs={}, response_metadata={}, id='run--7d1e0593-a820-4656-97aa-fae2e11003c2')}, 'run_id': '7d1e0593-a820-4656-97aa-fae2e11003c2', 'name': 'ChatGroq', 'tags': ['seq:step:1'], 'metadata': {'thread_id': '5', 'langgraph_step': 1, 'langgraph_node': 'SuperBot', 'langgraph_triggers': ('branch:to:SuperBot',), 'langgraph_path': ('__pregel_pull', 'SuperBot'), 'langgraph_checkpoint_ns': 'SuperBot:b57c5d2e-d6db-617a-a0be-ea7d774e20c8', 'checkpoint_ns': 'SuperBot:b57c5d2e-d6db-617a-a0be-ea7d774e20c8', 'ls_provider': 'groq', 'ls_model_name': 'llama3-8b-8192', 'ls_model_type': 'chat', 'ls_temperature': 0.7}, 'parent_ids': ['1a0c32e9-edf9-46b8-83b7-61fea357c23d', '21fee6fc-35ae-47a3-80b2-fe528905fad8']}\n",
      "{'event': 'on_chat_model_stream', 'data': {'chunk': AIMessageChunk(content=' requires', additional_kwargs={}, response_metadata={}, id='run--7d1e0593-a820-4656-97aa-fae2e11003c2')}, 'run_id': '7d1e0593-a820-4656-97aa-fae2e11003c2', 'name': 'ChatGroq', 'tags': ['seq:step:1'], 'metadata': {'thread_id': '5', 'langgraph_step': 1, 'langgraph_node': 'SuperBot', 'langgraph_triggers': ('branch:to:SuperBot',), 'langgraph_path': ('__pregel_pull', 'SuperBot'), 'langgraph_checkpoint_ns': 'SuperBot:b57c5d2e-d6db-617a-a0be-ea7d774e20c8', 'checkpoint_ns': 'SuperBot:b57c5d2e-d6db-617a-a0be-ea7d774e20c8', 'ls_provider': 'groq', 'ls_model_name': 'llama3-8b-8192', 'ls_model_type': 'chat', 'ls_temperature': 0.7}, 'parent_ids': ['1a0c32e9-edf9-46b8-83b7-61fea357c23d', '21fee6fc-35ae-47a3-80b2-fe528905fad8']}\n",
      "{'event': 'on_chat_model_stream', 'data': {'chunk': AIMessageChunk(content=' skill', additional_kwargs={}, response_metadata={}, id='run--7d1e0593-a820-4656-97aa-fae2e11003c2')}, 'run_id': '7d1e0593-a820-4656-97aa-fae2e11003c2', 'name': 'ChatGroq', 'tags': ['seq:step:1'], 'metadata': {'thread_id': '5', 'langgraph_step': 1, 'langgraph_node': 'SuperBot', 'langgraph_triggers': ('branch:to:SuperBot',), 'langgraph_path': ('__pregel_pull', 'SuperBot'), 'langgraph_checkpoint_ns': 'SuperBot:b57c5d2e-d6db-617a-a0be-ea7d774e20c8', 'checkpoint_ns': 'SuperBot:b57c5d2e-d6db-617a-a0be-ea7d774e20c8', 'ls_provider': 'groq', 'ls_model_name': 'llama3-8b-8192', 'ls_model_type': 'chat', 'ls_temperature': 0.7}, 'parent_ids': ['1a0c32e9-edf9-46b8-83b7-61fea357c23d', '21fee6fc-35ae-47a3-80b2-fe528905fad8']}\n",
      "{'event': 'on_chat_model_stream', 'data': {'chunk': AIMessageChunk(content=',', additional_kwargs={}, response_metadata={}, id='run--7d1e0593-a820-4656-97aa-fae2e11003c2')}, 'run_id': '7d1e0593-a820-4656-97aa-fae2e11003c2', 'name': 'ChatGroq', 'tags': ['seq:step:1'], 'metadata': {'thread_id': '5', 'langgraph_step': 1, 'langgraph_node': 'SuperBot', 'langgraph_triggers': ('branch:to:SuperBot',), 'langgraph_path': ('__pregel_pull', 'SuperBot'), 'langgraph_checkpoint_ns': 'SuperBot:b57c5d2e-d6db-617a-a0be-ea7d774e20c8', 'checkpoint_ns': 'SuperBot:b57c5d2e-d6db-617a-a0be-ea7d774e20c8', 'ls_provider': 'groq', 'ls_model_name': 'llama3-8b-8192', 'ls_model_type': 'chat', 'ls_temperature': 0.7}, 'parent_ids': ['1a0c32e9-edf9-46b8-83b7-61fea357c23d', '21fee6fc-35ae-47a3-80b2-fe528905fad8']}\n",
      "{'event': 'on_chat_model_stream', 'data': {'chunk': AIMessageChunk(content=' strategy', additional_kwargs={}, response_metadata={}, id='run--7d1e0593-a820-4656-97aa-fae2e11003c2')}, 'run_id': '7d1e0593-a820-4656-97aa-fae2e11003c2', 'name': 'ChatGroq', 'tags': ['seq:step:1'], 'metadata': {'thread_id': '5', 'langgraph_step': 1, 'langgraph_node': 'SuperBot', 'langgraph_triggers': ('branch:to:SuperBot',), 'langgraph_path': ('__pregel_pull', 'SuperBot'), 'langgraph_checkpoint_ns': 'SuperBot:b57c5d2e-d6db-617a-a0be-ea7d774e20c8', 'checkpoint_ns': 'SuperBot:b57c5d2e-d6db-617a-a0be-ea7d774e20c8', 'ls_provider': 'groq', 'ls_model_name': 'llama3-8b-8192', 'ls_model_type': 'chat', 'ls_temperature': 0.7}, 'parent_ids': ['1a0c32e9-edf9-46b8-83b7-61fea357c23d', '21fee6fc-35ae-47a3-80b2-fe528905fad8']}\n",
      "{'event': 'on_chat_model_stream', 'data': {'chunk': AIMessageChunk(content=',', additional_kwargs={}, response_metadata={}, id='run--7d1e0593-a820-4656-97aa-fae2e11003c2')}, 'run_id': '7d1e0593-a820-4656-97aa-fae2e11003c2', 'name': 'ChatGroq', 'tags': ['seq:step:1'], 'metadata': {'thread_id': '5', 'langgraph_step': 1, 'langgraph_node': 'SuperBot', 'langgraph_triggers': ('branch:to:SuperBot',), 'langgraph_path': ('__pregel_pull', 'SuperBot'), 'langgraph_checkpoint_ns': 'SuperBot:b57c5d2e-d6db-617a-a0be-ea7d774e20c8', 'checkpoint_ns': 'SuperBot:b57c5d2e-d6db-617a-a0be-ea7d774e20c8', 'ls_provider': 'groq', 'ls_model_name': 'llama3-8b-8192', 'ls_model_type': 'chat', 'ls_temperature': 0.7}, 'parent_ids': ['1a0c32e9-edf9-46b8-83b7-61fea357c23d', '21fee6fc-35ae-47a3-80b2-fe528905fad8']}\n",
      "{'event': 'on_chat_model_stream', 'data': {'chunk': AIMessageChunk(content=' and', additional_kwargs={}, response_metadata={}, id='run--7d1e0593-a820-4656-97aa-fae2e11003c2')}, 'run_id': '7d1e0593-a820-4656-97aa-fae2e11003c2', 'name': 'ChatGroq', 'tags': ['seq:step:1'], 'metadata': {'thread_id': '5', 'langgraph_step': 1, 'langgraph_node': 'SuperBot', 'langgraph_triggers': ('branch:to:SuperBot',), 'langgraph_path': ('__pregel_pull', 'SuperBot'), 'langgraph_checkpoint_ns': 'SuperBot:b57c5d2e-d6db-617a-a0be-ea7d774e20c8', 'checkpoint_ns': 'SuperBot:b57c5d2e-d6db-617a-a0be-ea7d774e20c8', 'ls_provider': 'groq', 'ls_model_name': 'llama3-8b-8192', 'ls_model_type': 'chat', 'ls_temperature': 0.7}, 'parent_ids': ['1a0c32e9-edf9-46b8-83b7-61fea357c23d', '21fee6fc-35ae-47a3-80b2-fe528905fad8']}\n",
      "{'event': 'on_chat_model_stream', 'data': {'chunk': AIMessageChunk(content=' teamwork', additional_kwargs={}, response_metadata={}, id='run--7d1e0593-a820-4656-97aa-fae2e11003c2')}, 'run_id': '7d1e0593-a820-4656-97aa-fae2e11003c2', 'name': 'ChatGroq', 'tags': ['seq:step:1'], 'metadata': {'thread_id': '5', 'langgraph_step': 1, 'langgraph_node': 'SuperBot', 'langgraph_triggers': ('branch:to:SuperBot',), 'langgraph_path': ('__pregel_pull', 'SuperBot'), 'langgraph_checkpoint_ns': 'SuperBot:b57c5d2e-d6db-617a-a0be-ea7d774e20c8', 'checkpoint_ns': 'SuperBot:b57c5d2e-d6db-617a-a0be-ea7d774e20c8', 'ls_provider': 'groq', 'ls_model_name': 'llama3-8b-8192', 'ls_model_type': 'chat', 'ls_temperature': 0.7}, 'parent_ids': ['1a0c32e9-edf9-46b8-83b7-61fea357c23d', '21fee6fc-35ae-47a3-80b2-fe528905fad8']}\n",
      "{'event': 'on_chat_model_stream', 'data': {'chunk': AIMessageChunk(content='.', additional_kwargs={}, response_metadata={}, id='run--7d1e0593-a820-4656-97aa-fae2e11003c2')}, 'run_id': '7d1e0593-a820-4656-97aa-fae2e11003c2', 'name': 'ChatGroq', 'tags': ['seq:step:1'], 'metadata': {'thread_id': '5', 'langgraph_step': 1, 'langgraph_node': 'SuperBot', 'langgraph_triggers': ('branch:to:SuperBot',), 'langgraph_path': ('__pregel_pull', 'SuperBot'), 'langgraph_checkpoint_ns': 'SuperBot:b57c5d2e-d6db-617a-a0be-ea7d774e20c8', 'checkpoint_ns': 'SuperBot:b57c5d2e-d6db-617a-a0be-ea7d774e20c8', 'ls_provider': 'groq', 'ls_model_name': 'llama3-8b-8192', 'ls_model_type': 'chat', 'ls_temperature': 0.7}, 'parent_ids': ['1a0c32e9-edf9-46b8-83b7-61fea357c23d', '21fee6fc-35ae-47a3-80b2-fe528905fad8']}\n",
      "{'event': 'on_chat_model_stream', 'data': {'chunk': AIMessageChunk(content=' What', additional_kwargs={}, response_metadata={}, id='run--7d1e0593-a820-4656-97aa-fae2e11003c2')}, 'run_id': '7d1e0593-a820-4656-97aa-fae2e11003c2', 'name': 'ChatGroq', 'tags': ['seq:step:1'], 'metadata': {'thread_id': '5', 'langgraph_step': 1, 'langgraph_node': 'SuperBot', 'langgraph_triggers': ('branch:to:SuperBot',), 'langgraph_path': ('__pregel_pull', 'SuperBot'), 'langgraph_checkpoint_ns': 'SuperBot:b57c5d2e-d6db-617a-a0be-ea7d774e20c8', 'checkpoint_ns': 'SuperBot:b57c5d2e-d6db-617a-a0be-ea7d774e20c8', 'ls_provider': 'groq', 'ls_model_name': 'llama3-8b-8192', 'ls_model_type': 'chat', 'ls_temperature': 0.7}, 'parent_ids': ['1a0c32e9-edf9-46b8-83b7-61fea357c23d', '21fee6fc-35ae-47a3-80b2-fe528905fad8']}\n",
      "{'event': 'on_chat_model_stream', 'data': {'chunk': AIMessageChunk(content=\"'s\", additional_kwargs={}, response_metadata={}, id='run--7d1e0593-a820-4656-97aa-fae2e11003c2')}, 'run_id': '7d1e0593-a820-4656-97aa-fae2e11003c2', 'name': 'ChatGroq', 'tags': ['seq:step:1'], 'metadata': {'thread_id': '5', 'langgraph_step': 1, 'langgraph_node': 'SuperBot', 'langgraph_triggers': ('branch:to:SuperBot',), 'langgraph_path': ('__pregel_pull', 'SuperBot'), 'langgraph_checkpoint_ns': 'SuperBot:b57c5d2e-d6db-617a-a0be-ea7d774e20c8', 'checkpoint_ns': 'SuperBot:b57c5d2e-d6db-617a-a0be-ea7d774e20c8', 'ls_provider': 'groq', 'ls_model_name': 'llama3-8b-8192', 'ls_model_type': 'chat', 'ls_temperature': 0.7}, 'parent_ids': ['1a0c32e9-edf9-46b8-83b7-61fea357c23d', '21fee6fc-35ae-47a3-80b2-fe528905fad8']}\n",
      "{'event': 'on_chat_model_stream', 'data': {'chunk': AIMessageChunk(content=' your', additional_kwargs={}, response_metadata={}, id='run--7d1e0593-a820-4656-97aa-fae2e11003c2')}, 'run_id': '7d1e0593-a820-4656-97aa-fae2e11003c2', 'name': 'ChatGroq', 'tags': ['seq:step:1'], 'metadata': {'thread_id': '5', 'langgraph_step': 1, 'langgraph_node': 'SuperBot', 'langgraph_triggers': ('branch:to:SuperBot',), 'langgraph_path': ('__pregel_pull', 'SuperBot'), 'langgraph_checkpoint_ns': 'SuperBot:b57c5d2e-d6db-617a-a0be-ea7d774e20c8', 'checkpoint_ns': 'SuperBot:b57c5d2e-d6db-617a-a0be-ea7d774e20c8', 'ls_provider': 'groq', 'ls_model_name': 'llama3-8b-8192', 'ls_model_type': 'chat', 'ls_temperature': 0.7}, 'parent_ids': ['1a0c32e9-edf9-46b8-83b7-61fea357c23d', '21fee6fc-35ae-47a3-80b2-fe528905fad8']}\n",
      "{'event': 'on_chat_model_stream', 'data': {'chunk': AIMessageChunk(content=' favorite', additional_kwargs={}, response_metadata={}, id='run--7d1e0593-a820-4656-97aa-fae2e11003c2')}, 'run_id': '7d1e0593-a820-4656-97aa-fae2e11003c2', 'name': 'ChatGroq', 'tags': ['seq:step:1'], 'metadata': {'thread_id': '5', 'langgraph_step': 1, 'langgraph_node': 'SuperBot', 'langgraph_triggers': ('branch:to:SuperBot',), 'langgraph_path': ('__pregel_pull', 'SuperBot'), 'langgraph_checkpoint_ns': 'SuperBot:b57c5d2e-d6db-617a-a0be-ea7d774e20c8', 'checkpoint_ns': 'SuperBot:b57c5d2e-d6db-617a-a0be-ea7d774e20c8', 'ls_provider': 'groq', 'ls_model_name': 'llama3-8b-8192', 'ls_model_type': 'chat', 'ls_temperature': 0.7}, 'parent_ids': ['1a0c32e9-edf9-46b8-83b7-61fea357c23d', '21fee6fc-35ae-47a3-80b2-fe528905fad8']}\n",
      "{'event': 'on_chat_model_stream', 'data': {'chunk': AIMessageChunk(content=' part', additional_kwargs={}, response_metadata={}, id='run--7d1e0593-a820-4656-97aa-fae2e11003c2')}, 'run_id': '7d1e0593-a820-4656-97aa-fae2e11003c2', 'name': 'ChatGroq', 'tags': ['seq:step:1'], 'metadata': {'thread_id': '5', 'langgraph_step': 1, 'langgraph_node': 'SuperBot', 'langgraph_triggers': ('branch:to:SuperBot',), 'langgraph_path': ('__pregel_pull', 'SuperBot'), 'langgraph_checkpoint_ns': 'SuperBot:b57c5d2e-d6db-617a-a0be-ea7d774e20c8', 'checkpoint_ns': 'SuperBot:b57c5d2e-d6db-617a-a0be-ea7d774e20c8', 'ls_provider': 'groq', 'ls_model_name': 'llama3-8b-8192', 'ls_model_type': 'chat', 'ls_temperature': 0.7}, 'parent_ids': ['1a0c32e9-edf9-46b8-83b7-61fea357c23d', '21fee6fc-35ae-47a3-80b2-fe528905fad8']}\n",
      "{'event': 'on_chat_model_stream', 'data': {'chunk': AIMessageChunk(content=' about', additional_kwargs={}, response_metadata={}, id='run--7d1e0593-a820-4656-97aa-fae2e11003c2')}, 'run_id': '7d1e0593-a820-4656-97aa-fae2e11003c2', 'name': 'ChatGroq', 'tags': ['seq:step:1'], 'metadata': {'thread_id': '5', 'langgraph_step': 1, 'langgraph_node': 'SuperBot', 'langgraph_triggers': ('branch:to:SuperBot',), 'langgraph_path': ('__pregel_pull', 'SuperBot'), 'langgraph_checkpoint_ns': 'SuperBot:b57c5d2e-d6db-617a-a0be-ea7d774e20c8', 'checkpoint_ns': 'SuperBot:b57c5d2e-d6db-617a-a0be-ea7d774e20c8', 'ls_provider': 'groq', 'ls_model_name': 'llama3-8b-8192', 'ls_model_type': 'chat', 'ls_temperature': 0.7}, 'parent_ids': ['1a0c32e9-edf9-46b8-83b7-61fea357c23d', '21fee6fc-35ae-47a3-80b2-fe528905fad8']}\n",
      "{'event': 'on_chat_model_stream', 'data': {'chunk': AIMessageChunk(content=' playing', additional_kwargs={}, response_metadata={}, id='run--7d1e0593-a820-4656-97aa-fae2e11003c2')}, 'run_id': '7d1e0593-a820-4656-97aa-fae2e11003c2', 'name': 'ChatGroq', 'tags': ['seq:step:1'], 'metadata': {'thread_id': '5', 'langgraph_step': 1, 'langgraph_node': 'SuperBot', 'langgraph_triggers': ('branch:to:SuperBot',), 'langgraph_path': ('__pregel_pull', 'SuperBot'), 'langgraph_checkpoint_ns': 'SuperBot:b57c5d2e-d6db-617a-a0be-ea7d774e20c8', 'checkpoint_ns': 'SuperBot:b57c5d2e-d6db-617a-a0be-ea7d774e20c8', 'ls_provider': 'groq', 'ls_model_name': 'llama3-8b-8192', 'ls_model_type': 'chat', 'ls_temperature': 0.7}, 'parent_ids': ['1a0c32e9-edf9-46b8-83b7-61fea357c23d', '21fee6fc-35ae-47a3-80b2-fe528905fad8']}\n",
      "{'event': 'on_chat_model_stream', 'data': {'chunk': AIMessageChunk(content=' cricket', additional_kwargs={}, response_metadata={}, id='run--7d1e0593-a820-4656-97aa-fae2e11003c2')}, 'run_id': '7d1e0593-a820-4656-97aa-fae2e11003c2', 'name': 'ChatGroq', 'tags': ['seq:step:1'], 'metadata': {'thread_id': '5', 'langgraph_step': 1, 'langgraph_node': 'SuperBot', 'langgraph_triggers': ('branch:to:SuperBot',), 'langgraph_path': ('__pregel_pull', 'SuperBot'), 'langgraph_checkpoint_ns': 'SuperBot:b57c5d2e-d6db-617a-a0be-ea7d774e20c8', 'checkpoint_ns': 'SuperBot:b57c5d2e-d6db-617a-a0be-ea7d774e20c8', 'ls_provider': 'groq', 'ls_model_name': 'llama3-8b-8192', 'ls_model_type': 'chat', 'ls_temperature': 0.7}, 'parent_ids': ['1a0c32e9-edf9-46b8-83b7-61fea357c23d', '21fee6fc-35ae-47a3-80b2-fe528905fad8']}\n",
      "{'event': 'on_chat_model_stream', 'data': {'chunk': AIMessageChunk(content='?', additional_kwargs={}, response_metadata={}, id='run--7d1e0593-a820-4656-97aa-fae2e11003c2')}, 'run_id': '7d1e0593-a820-4656-97aa-fae2e11003c2', 'name': 'ChatGroq', 'tags': ['seq:step:1'], 'metadata': {'thread_id': '5', 'langgraph_step': 1, 'langgraph_node': 'SuperBot', 'langgraph_triggers': ('branch:to:SuperBot',), 'langgraph_path': ('__pregel_pull', 'SuperBot'), 'langgraph_checkpoint_ns': 'SuperBot:b57c5d2e-d6db-617a-a0be-ea7d774e20c8', 'checkpoint_ns': 'SuperBot:b57c5d2e-d6db-617a-a0be-ea7d774e20c8', 'ls_provider': 'groq', 'ls_model_name': 'llama3-8b-8192', 'ls_model_type': 'chat', 'ls_temperature': 0.7}, 'parent_ids': ['1a0c32e9-edf9-46b8-83b7-61fea357c23d', '21fee6fc-35ae-47a3-80b2-fe528905fad8']}\n",
      "{'event': 'on_chat_model_stream', 'data': {'chunk': AIMessageChunk(content=' Do', additional_kwargs={}, response_metadata={}, id='run--7d1e0593-a820-4656-97aa-fae2e11003c2')}, 'run_id': '7d1e0593-a820-4656-97aa-fae2e11003c2', 'name': 'ChatGroq', 'tags': ['seq:step:1'], 'metadata': {'thread_id': '5', 'langgraph_step': 1, 'langgraph_node': 'SuperBot', 'langgraph_triggers': ('branch:to:SuperBot',), 'langgraph_path': ('__pregel_pull', 'SuperBot'), 'langgraph_checkpoint_ns': 'SuperBot:b57c5d2e-d6db-617a-a0be-ea7d774e20c8', 'checkpoint_ns': 'SuperBot:b57c5d2e-d6db-617a-a0be-ea7d774e20c8', 'ls_provider': 'groq', 'ls_model_name': 'llama3-8b-8192', 'ls_model_type': 'chat', 'ls_temperature': 0.7}, 'parent_ids': ['1a0c32e9-edf9-46b8-83b7-61fea357c23d', '21fee6fc-35ae-47a3-80b2-fe528905fad8']}\n",
      "{'event': 'on_chat_model_stream', 'data': {'chunk': AIMessageChunk(content=' you', additional_kwargs={}, response_metadata={}, id='run--7d1e0593-a820-4656-97aa-fae2e11003c2')}, 'run_id': '7d1e0593-a820-4656-97aa-fae2e11003c2', 'name': 'ChatGroq', 'tags': ['seq:step:1'], 'metadata': {'thread_id': '5', 'langgraph_step': 1, 'langgraph_node': 'SuperBot', 'langgraph_triggers': ('branch:to:SuperBot',), 'langgraph_path': ('__pregel_pull', 'SuperBot'), 'langgraph_checkpoint_ns': 'SuperBot:b57c5d2e-d6db-617a-a0be-ea7d774e20c8', 'checkpoint_ns': 'SuperBot:b57c5d2e-d6db-617a-a0be-ea7d774e20c8', 'ls_provider': 'groq', 'ls_model_name': 'llama3-8b-8192', 'ls_model_type': 'chat', 'ls_temperature': 0.7}, 'parent_ids': ['1a0c32e9-edf9-46b8-83b7-61fea357c23d', '21fee6fc-35ae-47a3-80b2-fe528905fad8']}\n",
      "{'event': 'on_chat_model_stream', 'data': {'chunk': AIMessageChunk(content=' have', additional_kwargs={}, response_metadata={}, id='run--7d1e0593-a820-4656-97aa-fae2e11003c2')}, 'run_id': '7d1e0593-a820-4656-97aa-fae2e11003c2', 'name': 'ChatGroq', 'tags': ['seq:step:1'], 'metadata': {'thread_id': '5', 'langgraph_step': 1, 'langgraph_node': 'SuperBot', 'langgraph_triggers': ('branch:to:SuperBot',), 'langgraph_path': ('__pregel_pull', 'SuperBot'), 'langgraph_checkpoint_ns': 'SuperBot:b57c5d2e-d6db-617a-a0be-ea7d774e20c8', 'checkpoint_ns': 'SuperBot:b57c5d2e-d6db-617a-a0be-ea7d774e20c8', 'ls_provider': 'groq', 'ls_model_name': 'llama3-8b-8192', 'ls_model_type': 'chat', 'ls_temperature': 0.7}, 'parent_ids': ['1a0c32e9-edf9-46b8-83b7-61fea357c23d', '21fee6fc-35ae-47a3-80b2-fe528905fad8']}\n",
      "{'event': 'on_chat_model_stream', 'data': {'chunk': AIMessageChunk(content=' a', additional_kwargs={}, response_metadata={}, id='run--7d1e0593-a820-4656-97aa-fae2e11003c2')}, 'run_id': '7d1e0593-a820-4656-97aa-fae2e11003c2', 'name': 'ChatGroq', 'tags': ['seq:step:1'], 'metadata': {'thread_id': '5', 'langgraph_step': 1, 'langgraph_node': 'SuperBot', 'langgraph_triggers': ('branch:to:SuperBot',), 'langgraph_path': ('__pregel_pull', 'SuperBot'), 'langgraph_checkpoint_ns': 'SuperBot:b57c5d2e-d6db-617a-a0be-ea7d774e20c8', 'checkpoint_ns': 'SuperBot:b57c5d2e-d6db-617a-a0be-ea7d774e20c8', 'ls_provider': 'groq', 'ls_model_name': 'llama3-8b-8192', 'ls_model_type': 'chat', 'ls_temperature': 0.7}, 'parent_ids': ['1a0c32e9-edf9-46b8-83b7-61fea357c23d', '21fee6fc-35ae-47a3-80b2-fe528905fad8']}\n",
      "{'event': 'on_chat_model_stream', 'data': {'chunk': AIMessageChunk(content=' favorite', additional_kwargs={}, response_metadata={}, id='run--7d1e0593-a820-4656-97aa-fae2e11003c2')}, 'run_id': '7d1e0593-a820-4656-97aa-fae2e11003c2', 'name': 'ChatGroq', 'tags': ['seq:step:1'], 'metadata': {'thread_id': '5', 'langgraph_step': 1, 'langgraph_node': 'SuperBot', 'langgraph_triggers': ('branch:to:SuperBot',), 'langgraph_path': ('__pregel_pull', 'SuperBot'), 'langgraph_checkpoint_ns': 'SuperBot:b57c5d2e-d6db-617a-a0be-ea7d774e20c8', 'checkpoint_ns': 'SuperBot:b57c5d2e-d6db-617a-a0be-ea7d774e20c8', 'ls_provider': 'groq', 'ls_model_name': 'llama3-8b-8192', 'ls_model_type': 'chat', 'ls_temperature': 0.7}, 'parent_ids': ['1a0c32e9-edf9-46b8-83b7-61fea357c23d', '21fee6fc-35ae-47a3-80b2-fe528905fad8']}\n",
      "{'event': 'on_chat_model_stream', 'data': {'chunk': AIMessageChunk(content=' team', additional_kwargs={}, response_metadata={}, id='run--7d1e0593-a820-4656-97aa-fae2e11003c2')}, 'run_id': '7d1e0593-a820-4656-97aa-fae2e11003c2', 'name': 'ChatGroq', 'tags': ['seq:step:1'], 'metadata': {'thread_id': '5', 'langgraph_step': 1, 'langgraph_node': 'SuperBot', 'langgraph_triggers': ('branch:to:SuperBot',), 'langgraph_path': ('__pregel_pull', 'SuperBot'), 'langgraph_checkpoint_ns': 'SuperBot:b57c5d2e-d6db-617a-a0be-ea7d774e20c8', 'checkpoint_ns': 'SuperBot:b57c5d2e-d6db-617a-a0be-ea7d774e20c8', 'ls_provider': 'groq', 'ls_model_name': 'llama3-8b-8192', 'ls_model_type': 'chat', 'ls_temperature': 0.7}, 'parent_ids': ['1a0c32e9-edf9-46b8-83b7-61fea357c23d', '21fee6fc-35ae-47a3-80b2-fe528905fad8']}\n",
      "{'event': 'on_chat_model_stream', 'data': {'chunk': AIMessageChunk(content=' or', additional_kwargs={}, response_metadata={}, id='run--7d1e0593-a820-4656-97aa-fae2e11003c2')}, 'run_id': '7d1e0593-a820-4656-97aa-fae2e11003c2', 'name': 'ChatGroq', 'tags': ['seq:step:1'], 'metadata': {'thread_id': '5', 'langgraph_step': 1, 'langgraph_node': 'SuperBot', 'langgraph_triggers': ('branch:to:SuperBot',), 'langgraph_path': ('__pregel_pull', 'SuperBot'), 'langgraph_checkpoint_ns': 'SuperBot:b57c5d2e-d6db-617a-a0be-ea7d774e20c8', 'checkpoint_ns': 'SuperBot:b57c5d2e-d6db-617a-a0be-ea7d774e20c8', 'ls_provider': 'groq', 'ls_model_name': 'llama3-8b-8192', 'ls_model_type': 'chat', 'ls_temperature': 0.7}, 'parent_ids': ['1a0c32e9-edf9-46b8-83b7-61fea357c23d', '21fee6fc-35ae-47a3-80b2-fe528905fad8']}\n",
      "{'event': 'on_chat_model_stream', 'data': {'chunk': AIMessageChunk(content=' player', additional_kwargs={}, response_metadata={}, id='run--7d1e0593-a820-4656-97aa-fae2e11003c2')}, 'run_id': '7d1e0593-a820-4656-97aa-fae2e11003c2', 'name': 'ChatGroq', 'tags': ['seq:step:1'], 'metadata': {'thread_id': '5', 'langgraph_step': 1, 'langgraph_node': 'SuperBot', 'langgraph_triggers': ('branch:to:SuperBot',), 'langgraph_path': ('__pregel_pull', 'SuperBot'), 'langgraph_checkpoint_ns': 'SuperBot:b57c5d2e-d6db-617a-a0be-ea7d774e20c8', 'checkpoint_ns': 'SuperBot:b57c5d2e-d6db-617a-a0be-ea7d774e20c8', 'ls_provider': 'groq', 'ls_model_name': 'llama3-8b-8192', 'ls_model_type': 'chat', 'ls_temperature': 0.7}, 'parent_ids': ['1a0c32e9-edf9-46b8-83b7-61fea357c23d', '21fee6fc-35ae-47a3-80b2-fe528905fad8']}\n",
      "{'event': 'on_chat_model_stream', 'data': {'chunk': AIMessageChunk(content='?', additional_kwargs={}, response_metadata={}, id='run--7d1e0593-a820-4656-97aa-fae2e11003c2')}, 'run_id': '7d1e0593-a820-4656-97aa-fae2e11003c2', 'name': 'ChatGroq', 'tags': ['seq:step:1'], 'metadata': {'thread_id': '5', 'langgraph_step': 1, 'langgraph_node': 'SuperBot', 'langgraph_triggers': ('branch:to:SuperBot',), 'langgraph_path': ('__pregel_pull', 'SuperBot'), 'langgraph_checkpoint_ns': 'SuperBot:b57c5d2e-d6db-617a-a0be-ea7d774e20c8', 'checkpoint_ns': 'SuperBot:b57c5d2e-d6db-617a-a0be-ea7d774e20c8', 'ls_provider': 'groq', 'ls_model_name': 'llama3-8b-8192', 'ls_model_type': 'chat', 'ls_temperature': 0.7}, 'parent_ids': ['1a0c32e9-edf9-46b8-83b7-61fea357c23d', '21fee6fc-35ae-47a3-80b2-fe528905fad8']}\n",
      "{'event': 'on_chat_model_stream', 'data': {'chunk': AIMessageChunk(content='', additional_kwargs={}, response_metadata={'finish_reason': 'stop', 'model_name': 'llama3-8b-8192', 'system_fingerprint': 'fp_4b5fbf0ced', 'service_tier': 'on_demand'}, id='run--7d1e0593-a820-4656-97aa-fae2e11003c2', usage_metadata={'input_tokens': 21, 'output_tokens': 48, 'total_tokens': 69})}, 'run_id': '7d1e0593-a820-4656-97aa-fae2e11003c2', 'name': 'ChatGroq', 'tags': ['seq:step:1'], 'metadata': {'thread_id': '5', 'langgraph_step': 1, 'langgraph_node': 'SuperBot', 'langgraph_triggers': ('branch:to:SuperBot',), 'langgraph_path': ('__pregel_pull', 'SuperBot'), 'langgraph_checkpoint_ns': 'SuperBot:b57c5d2e-d6db-617a-a0be-ea7d774e20c8', 'checkpoint_ns': 'SuperBot:b57c5d2e-d6db-617a-a0be-ea7d774e20c8', 'ls_provider': 'groq', 'ls_model_name': 'llama3-8b-8192', 'ls_model_type': 'chat', 'ls_temperature': 0.7}, 'parent_ids': ['1a0c32e9-edf9-46b8-83b7-61fea357c23d', '21fee6fc-35ae-47a3-80b2-fe528905fad8']}\n",
      "{'event': 'on_chat_model_end', 'data': {'output': AIMessage(content=\"Hi Krish! That's great to hear that you like to play cricket! It's a fantastic sport that requires skill, strategy, and teamwork. What's your favorite part about playing cricket? Do you have a favorite team or player?\", additional_kwargs={}, response_metadata={'finish_reason': 'stop', 'model_name': 'llama3-8b-8192', 'system_fingerprint': 'fp_4b5fbf0ced', 'service_tier': 'on_demand'}, id='run--7d1e0593-a820-4656-97aa-fae2e11003c2', usage_metadata={'input_tokens': 21, 'output_tokens': 48, 'total_tokens': 69}), 'input': {'messages': [[HumanMessage(content='Hi My name is Krish and I like to play cricket', additional_kwargs={}, response_metadata={}, id='35a5e768-5986-4d96-850e-e3118b33e586')]]}}, 'run_id': '7d1e0593-a820-4656-97aa-fae2e11003c2', 'name': 'ChatGroq', 'tags': ['seq:step:1'], 'metadata': {'thread_id': '5', 'langgraph_step': 1, 'langgraph_node': 'SuperBot', 'langgraph_triggers': ('branch:to:SuperBot',), 'langgraph_path': ('__pregel_pull', 'SuperBot'), 'langgraph_checkpoint_ns': 'SuperBot:b57c5d2e-d6db-617a-a0be-ea7d774e20c8', 'checkpoint_ns': 'SuperBot:b57c5d2e-d6db-617a-a0be-ea7d774e20c8', 'ls_provider': 'groq', 'ls_model_name': 'llama3-8b-8192', 'ls_model_type': 'chat', 'ls_temperature': 0.7}, 'parent_ids': ['1a0c32e9-edf9-46b8-83b7-61fea357c23d', '21fee6fc-35ae-47a3-80b2-fe528905fad8']}\n",
      "{'event': 'on_chain_stream', 'run_id': '21fee6fc-35ae-47a3-80b2-fe528905fad8', 'name': 'SuperBot', 'tags': ['graph:step:1'], 'metadata': {'thread_id': '5', 'langgraph_step': 1, 'langgraph_node': 'SuperBot', 'langgraph_triggers': ('branch:to:SuperBot',), 'langgraph_path': ('__pregel_pull', 'SuperBot'), 'langgraph_checkpoint_ns': 'SuperBot:b57c5d2e-d6db-617a-a0be-ea7d774e20c8'}, 'data': {'chunk': {'messages': [AIMessage(content=\"Hi Krish! That's great to hear that you like to play cricket! It's a fantastic sport that requires skill, strategy, and teamwork. What's your favorite part about playing cricket? Do you have a favorite team or player?\", additional_kwargs={}, response_metadata={'finish_reason': 'stop', 'model_name': 'llama3-8b-8192', 'system_fingerprint': 'fp_4b5fbf0ced', 'service_tier': 'on_demand'}, id='run--7d1e0593-a820-4656-97aa-fae2e11003c2', usage_metadata={'input_tokens': 21, 'output_tokens': 48, 'total_tokens': 69})]}}, 'parent_ids': ['1a0c32e9-edf9-46b8-83b7-61fea357c23d']}\n",
      "{'event': 'on_chain_end', 'data': {'output': {'messages': [AIMessage(content=\"Hi Krish! That's great to hear that you like to play cricket! It's a fantastic sport that requires skill, strategy, and teamwork. What's your favorite part about playing cricket? Do you have a favorite team or player?\", additional_kwargs={}, response_metadata={'finish_reason': 'stop', 'model_name': 'llama3-8b-8192', 'system_fingerprint': 'fp_4b5fbf0ced', 'service_tier': 'on_demand'}, id='run--7d1e0593-a820-4656-97aa-fae2e11003c2', usage_metadata={'input_tokens': 21, 'output_tokens': 48, 'total_tokens': 69})]}, 'input': {'messages': [HumanMessage(content='Hi My name is Krish and I like to play cricket', additional_kwargs={}, response_metadata={}, id='35a5e768-5986-4d96-850e-e3118b33e586')]}}, 'run_id': '21fee6fc-35ae-47a3-80b2-fe528905fad8', 'name': 'SuperBot', 'tags': ['graph:step:1'], 'metadata': {'thread_id': '5', 'langgraph_step': 1, 'langgraph_node': 'SuperBot', 'langgraph_triggers': ('branch:to:SuperBot',), 'langgraph_path': ('__pregel_pull', 'SuperBot'), 'langgraph_checkpoint_ns': 'SuperBot:b57c5d2e-d6db-617a-a0be-ea7d774e20c8'}, 'parent_ids': ['1a0c32e9-edf9-46b8-83b7-61fea357c23d']}\n",
      "{'event': 'on_chain_stream', 'run_id': '1a0c32e9-edf9-46b8-83b7-61fea357c23d', 'name': 'LangGraph', 'tags': [], 'metadata': {'thread_id': '5'}, 'data': {'chunk': {'SuperBot': {'messages': [AIMessage(content=\"Hi Krish! That's great to hear that you like to play cricket! It's a fantastic sport that requires skill, strategy, and teamwork. What's your favorite part about playing cricket? Do you have a favorite team or player?\", additional_kwargs={}, response_metadata={'finish_reason': 'stop', 'model_name': 'llama3-8b-8192', 'system_fingerprint': 'fp_4b5fbf0ced', 'service_tier': 'on_demand'}, id='run--7d1e0593-a820-4656-97aa-fae2e11003c2', usage_metadata={'input_tokens': 21, 'output_tokens': 48, 'total_tokens': 69})]}}}, 'parent_ids': []}\n",
      "{'event': 'on_chain_end', 'data': {'output': {'messages': [HumanMessage(content='Hi My name is Krish and I like to play cricket', additional_kwargs={}, response_metadata={}, id='35a5e768-5986-4d96-850e-e3118b33e586'), AIMessage(content=\"Hi Krish! That's great to hear that you like to play cricket! It's a fantastic sport that requires skill, strategy, and teamwork. What's your favorite part about playing cricket? Do you have a favorite team or player?\", additional_kwargs={}, response_metadata={'finish_reason': 'stop', 'model_name': 'llama3-8b-8192', 'system_fingerprint': 'fp_4b5fbf0ced', 'service_tier': 'on_demand'}, id='run--7d1e0593-a820-4656-97aa-fae2e11003c2', usage_metadata={'input_tokens': 21, 'output_tokens': 48, 'total_tokens': 69})]}}, 'run_id': '1a0c32e9-edf9-46b8-83b7-61fea357c23d', 'name': 'LangGraph', 'tags': [], 'metadata': {'thread_id': '5'}, 'parent_ids': []}\n"
     ]
    }
   ],
   "source": [
    "config = {\"configurable\": {\"thread_id\": \"5\"}}\n",
    "\n",
    "async for event in graph_builder.astream_events({\"messages\":[\"Hi My name is Krish and I like to play cricket\"]},config,version=\"v2\"):\n",
    "    print(event)"
   ]
  }
 ],
 "metadata": {
  "kernelspec": {
   "display_name": ".venv",
   "language": "python",
   "name": "python3"
  },
  "language_info": {
   "codemirror_mode": {
    "name": "ipython",
    "version": 3
   },
   "file_extension": ".py",
   "mimetype": "text/x-python",
   "name": "python",
   "nbconvert_exporter": "python",
   "pygments_lexer": "ipython3",
   "version": "3.11.11"
  }
 },
 "nbformat": 4,
 "nbformat_minor": 5
}
